{
 "cells": [
  {
   "cell_type": "code",
   "execution_count": 1,
   "id": "8767c726",
   "metadata": {},
   "outputs": [],
   "source": [
    "import secrets"
   ]
  },
  {
   "cell_type": "markdown",
   "id": "c006ceb9",
   "metadata": {},
   "source": [
    "### Zwraca token o zadanej dlugosci"
   ]
  },
  {
   "cell_type": "code",
   "execution_count": 2,
   "id": "72c54b90",
   "metadata": {},
   "outputs": [
    {
     "data": {
      "text/plain": [
       "'2a551c4d12e2edd250b3f5e589be5a9f'"
      ]
     },
     "execution_count": 2,
     "metadata": {},
     "output_type": "execute_result"
    }
   ],
   "source": [
    "secrets.token_hex(16)"
   ]
  },
  {
   "cell_type": "code",
   "execution_count": null,
   "id": "765e837c",
   "metadata": {},
   "outputs": [],
   "source": []
  }
 ],
 "metadata": {
  "kernelspec": {
   "display_name": "Python 3 (ipykernel)",
   "language": "python",
   "name": "python3"
  },
  "language_info": {
   "codemirror_mode": {
    "name": "ipython",
    "version": 3
   },
   "file_extension": ".py",
   "mimetype": "text/x-python",
   "name": "python",
   "nbconvert_exporter": "python",
   "pygments_lexer": "ipython3",
   "version": "3.10.5"
  }
 },
 "nbformat": 4,
 "nbformat_minor": 5
}
