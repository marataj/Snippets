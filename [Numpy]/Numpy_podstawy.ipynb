{
 "cells": [
  {
   "cell_type": "code",
   "execution_count": 1,
   "id": "2fe3cf93",
   "metadata": {},
   "outputs": [],
   "source": [
    "import numpy as np"
   ]
  },
  {
   "cell_type": "code",
   "execution_count": 11,
   "id": "1664048f",
   "metadata": {},
   "outputs": [],
   "source": [
    "# Wypelnianie tablicy zerami\n",
    "a=np.zeros((3,3), dtype=int)"
   ]
  },
  {
   "cell_type": "markdown",
   "id": "72a47e81",
   "metadata": {},
   "source": [
    "#### Numpy as default typuje liczby na floaty\n"
   ]
  },
  {
   "cell_type": "code",
   "execution_count": 7,
   "id": "71f26fe1",
   "metadata": {},
   "outputs": [
    {
     "data": {
      "text/plain": [
       "array([[0, 0, 0],\n",
       "       [0, 0, 0],\n",
       "       [0, 0, 0]])"
      ]
     },
     "execution_count": 7,
     "metadata": {},
     "output_type": "execute_result"
    }
   ],
   "source": [
    "a"
   ]
  },
  {
   "cell_type": "code",
   "execution_count": 9,
   "id": "ea83336f",
   "metadata": {},
   "outputs": [],
   "source": [
    "b=np.ones(2)"
   ]
  },
  {
   "cell_type": "code",
   "execution_count": 13,
   "id": "43c5cbde",
   "metadata": {},
   "outputs": [],
   "source": [
    "c=np.empty(3)"
   ]
  },
  {
   "cell_type": "code",
   "execution_count": 14,
   "id": "19cc8e8f",
   "metadata": {},
   "outputs": [
    {
     "data": {
      "text/plain": [
       "array([1.09042911e-311, 0.00000000e+000, 1.27366726e+232])"
      ]
     },
     "execution_count": 14,
     "metadata": {},
     "output_type": "execute_result"
    }
   ],
   "source": [
    "c"
   ]
  },
  {
   "cell_type": "code",
   "execution_count": 21,
   "id": "43e926a3",
   "metadata": {},
   "outputs": [],
   "source": [
    "#tworzenie listy od, do z konkretna iloscia punktow\n",
    "d=np.linspace(1,15,10)"
   ]
  },
  {
   "cell_type": "code",
   "execution_count": 22,
   "id": "5a0f27d5",
   "metadata": {},
   "outputs": [
    {
     "data": {
      "text/plain": [
       "array([ 1.        ,  2.55555556,  4.11111111,  5.66666667,  7.22222222,\n",
       "        8.77777778, 10.33333333, 11.88888889, 13.44444444, 15.        ])"
      ]
     },
     "execution_count": 22,
     "metadata": {},
     "output_type": "execute_result"
    }
   ],
   "source": [
    "d"
   ]
  },
  {
   "cell_type": "code",
   "execution_count": 24,
   "id": "bab4736b",
   "metadata": {},
   "outputs": [
    {
     "data": {
      "text/plain": [
       "(10,)"
      ]
     },
     "execution_count": 24,
     "metadata": {},
     "output_type": "execute_result"
    }
   ],
   "source": [
    "d.shape"
   ]
  },
  {
   "cell_type": "markdown",
   "id": "6c016abe",
   "metadata": {},
   "source": [
    "### TIP\n",
    "\n",
    "jezeli wpiszesz ? i obiekt to dostaniesz opisik"
   ]
  },
  {
   "cell_type": "code",
   "execution_count": 30,
   "id": "d4fcb777",
   "metadata": {},
   "outputs": [],
   "source": [
    "e=np.random.randint(1,7,(10,10))"
   ]
  },
  {
   "cell_type": "code",
   "execution_count": 31,
   "id": "abdab395",
   "metadata": {},
   "outputs": [
    {
     "data": {
      "text/plain": [
       "array([[6, 6, 3, 2, 5, 4, 3, 6, 6, 3],\n",
       "       [6, 1, 1, 6, 4, 1, 5, 1, 5, 3],\n",
       "       [5, 5, 6, 6, 2, 6, 3, 1, 4, 2],\n",
       "       [5, 3, 5, 2, 4, 3, 4, 4, 1, 4],\n",
       "       [1, 5, 5, 2, 4, 2, 3, 1, 3, 3],\n",
       "       [3, 6, 3, 1, 5, 2, 2, 4, 3, 6],\n",
       "       [2, 6, 6, 1, 6, 3, 2, 6, 1, 2],\n",
       "       [3, 5, 6, 1, 6, 4, 1, 1, 5, 4],\n",
       "       [2, 4, 2, 1, 2, 6, 1, 6, 5, 5],\n",
       "       [3, 1, 4, 3, 1, 1, 3, 5, 6, 2]])"
      ]
     },
     "execution_count": 31,
     "metadata": {},
     "output_type": "execute_result"
    }
   ],
   "source": [
    "e"
   ]
  },
  {
   "cell_type": "code",
   "execution_count": 36,
   "id": "21920876",
   "metadata": {},
   "outputs": [
    {
     "data": {
      "text/plain": [
       "array([[3, 6, 3, 1, 5],\n",
       "       [2, 6, 6, 1, 6],\n",
       "       [3, 5, 6, 1, 6],\n",
       "       [2, 4, 2, 1, 2],\n",
       "       [3, 1, 4, 3, 1]])"
      ]
     },
     "execution_count": 36,
     "metadata": {},
     "output_type": "execute_result"
    }
   ],
   "source": [
    "e[5:,:5]"
   ]
  },
  {
   "cell_type": "markdown",
   "id": "4aa03354",
   "metadata": {},
   "source": [
    "# Można testować całą tablice na raz"
   ]
  },
  {
   "cell_type": "code",
   "execution_count": 39,
   "id": "00f19be0",
   "metadata": {},
   "outputs": [
    {
     "data": {
      "text/plain": [
       "array([6, 6, 5, 4, 6, 6, 6, 6, 4, 5, 5, 5, 5, 6, 6, 6, 4, 5, 5, 4, 4, 4,\n",
       "       4, 5, 5, 4, 6, 5, 4, 6, 6, 6, 6, 6, 5, 6, 6, 4, 5, 4, 4, 6, 6, 5,\n",
       "       5, 4, 5, 6])"
      ]
     },
     "execution_count": 39,
     "metadata": {},
     "output_type": "execute_result"
    }
   ],
   "source": [
    "e[e>3]"
   ]
  },
  {
   "cell_type": "code",
   "execution_count": null,
   "id": "98384266",
   "metadata": {},
   "outputs": [],
   "source": []
  }
 ],
 "metadata": {
  "kernelspec": {
   "display_name": "Python 3 (ipykernel)",
   "language": "python",
   "name": "python3"
  },
  "language_info": {
   "codemirror_mode": {
    "name": "ipython",
    "version": 3
   },
   "file_extension": ".py",
   "mimetype": "text/x-python",
   "name": "python",
   "nbconvert_exporter": "python",
   "pygments_lexer": "ipython3",
   "version": "3.10.5"
  }
 },
 "nbformat": 4,
 "nbformat_minor": 5
}
