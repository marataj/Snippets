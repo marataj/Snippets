{
 "cells": [
  {
   "cell_type": "markdown",
   "id": "91be8dce",
   "metadata": {},
   "source": [
    "# Tkinter tut https://www.youtube.com/watch?v=TuLxsvK4svQ"
   ]
  },
  {
   "cell_type": "code",
   "execution_count": 2,
   "id": "fe1cc049",
   "metadata": {},
   "outputs": [],
   "source": [
    "from tkinter import *"
   ]
  },
  {
   "cell_type": "markdown",
   "id": "58d3fc63",
   "metadata": {},
   "source": [
    "## 1. Tworzenie glownego widgetu\n"
   ]
  },
  {
   "cell_type": "code",
   "execution_count": 3,
   "id": "74b7780d",
   "metadata": {},
   "outputs": [],
   "source": [
    "window = Tk() # definicja"
   ]
  },
  {
   "cell_type": "markdown",
   "id": "3ba1501c",
   "metadata": {},
   "source": [
    "#### W tkinterze tworzenie czegokolwiek składa się z 2 kroków.\n",
    "1. Definicja\n",
    "2. Wrzucenie tego na ekran"
   ]
  },
  {
   "cell_type": "markdown",
   "id": "b6d98201",
   "metadata": {},
   "source": [
    "# ---------- FORMATKA ----------"
   ]
  },
  {
   "cell_type": "code",
   "execution_count": 50,
   "id": "10a21ecb",
   "metadata": {},
   "outputs": [],
   "source": [
    "from tkinter import *\n",
    "window = Tk() #definicja okna\n",
    "window.title(\"Tytul\")\n",
    "\n",
    "window.mainloop()"
   ]
  },
  {
   "cell_type": "markdown",
   "id": "7244e114",
   "metadata": {},
   "source": [
    "# ---------- FORMATKA ----------"
   ]
  },
  {
   "cell_type": "markdown",
   "id": "e403edf1",
   "metadata": {},
   "source": [
    "#### zmiana geometrii okna"
   ]
  },
  {
   "cell_type": "code",
   "execution_count": 49,
   "id": "833c1193",
   "metadata": {},
   "outputs": [
    {
     "ename": "TclError",
     "evalue": "can't invoke \"wm\" command: application has been destroyed",
     "output_type": "error",
     "traceback": [
      "\u001b[1;31m---------------------------------------------------------------------------\u001b[0m",
      "\u001b[1;31mTclError\u001b[0m                                  Traceback (most recent call last)",
      "Input \u001b[1;32mIn [49]\u001b[0m, in \u001b[0;36m<cell line: 1>\u001b[1;34m()\u001b[0m\n\u001b[1;32m----> 1\u001b[0m \u001b[43mwindow\u001b[49m\u001b[38;5;241;43m.\u001b[39;49m\u001b[43mgeometry\u001b[49m\u001b[43m(\u001b[49m\u001b[38;5;124;43m'\u001b[39;49m\u001b[38;5;124;43m420x420+100+100\u001b[39;49m\u001b[38;5;124;43m'\u001b[39;49m\u001b[43m)\u001b[49m \u001b[38;5;66;03m# geometry\u001b[39;00m\n\u001b[0;32m      2\u001b[0m window\u001b[38;5;241m.\u001b[39mtitle(\u001b[38;5;124m\"\u001b[39m\u001b[38;5;124mTytul\u001b[39m\u001b[38;5;124m\"\u001b[39m) \u001b[38;5;66;03m# zmiana tytulu\u001b[39;00m\n\u001b[0;32m      5\u001b[0m window\u001b[38;5;241m.\u001b[39mmainloop()\n",
      "File \u001b[1;32m~\\AppData\\Local\\Programs\\Python\\Python310\\lib\\tkinter\\__init__.py:2073\u001b[0m, in \u001b[0;36mWm.wm_geometry\u001b[1;34m(self, newGeometry)\u001b[0m\n\u001b[0;32m   2070\u001b[0m \u001b[38;5;28;01mdef\u001b[39;00m \u001b[38;5;21mwm_geometry\u001b[39m(\u001b[38;5;28mself\u001b[39m, newGeometry\u001b[38;5;241m=\u001b[39m\u001b[38;5;28;01mNone\u001b[39;00m):\n\u001b[0;32m   2071\u001b[0m     \u001b[38;5;124;03m\"\"\"Set geometry to NEWGEOMETRY of the form =widthxheight+x+y. Return\u001b[39;00m\n\u001b[0;32m   2072\u001b[0m \u001b[38;5;124;03m    current value if None is given.\"\"\"\u001b[39;00m\n\u001b[1;32m-> 2073\u001b[0m     \u001b[38;5;28;01mreturn\u001b[39;00m \u001b[38;5;28;43mself\u001b[39;49m\u001b[38;5;241;43m.\u001b[39;49m\u001b[43mtk\u001b[49m\u001b[38;5;241;43m.\u001b[39;49m\u001b[43mcall\u001b[49m\u001b[43m(\u001b[49m\u001b[38;5;124;43m'\u001b[39;49m\u001b[38;5;124;43mwm\u001b[39;49m\u001b[38;5;124;43m'\u001b[39;49m\u001b[43m,\u001b[49m\u001b[43m \u001b[49m\u001b[38;5;124;43m'\u001b[39;49m\u001b[38;5;124;43mgeometry\u001b[39;49m\u001b[38;5;124;43m'\u001b[39;49m\u001b[43m,\u001b[49m\u001b[43m \u001b[49m\u001b[38;5;28;43mself\u001b[39;49m\u001b[38;5;241;43m.\u001b[39;49m\u001b[43m_w\u001b[49m\u001b[43m,\u001b[49m\u001b[43m \u001b[49m\u001b[43mnewGeometry\u001b[49m\u001b[43m)\u001b[49m\n",
      "\u001b[1;31mTclError\u001b[0m: can't invoke \"wm\" command: application has been destroyed"
     ]
    }
   ],
   "source": [
    "window.geometry('420x420+100+100') # geometry\n",
    "window.title(\"Tytul\") # zmiana tytulu\n",
    "\n",
    "\n",
    "window.mainloop() #wyrzucanie na ekran\n"
   ]
  },
  {
   "cell_type": "markdown",
   "id": "b6edf1b3",
   "metadata": {},
   "source": [
    "## Dodanie labela i wrzucenie go do okna"
   ]
  },
  {
   "cell_type": "code",
   "execution_count": 14,
   "id": "85831eb6",
   "metadata": {},
   "outputs": [],
   "source": [
    "from tkinter import *\n",
    "window = Tk() #definicja okna\n",
    "myLabel = Label(window, \n",
    "                text= \"Label\", \n",
    "                font=('Comicsans', 40, 'bold'), \n",
    "                fg='blue', \n",
    "                bg='yellow',\n",
    "               relief = RAISED, #obwodka\n",
    "               bd=10,#grubosc obwodki\n",
    "               padx=20,#pixele dookola w x\n",
    "               pady=20)#pixele dookola w y\n",
    "myLabel.pack()\n",
    "#myLabel.place(x=50, y=50)\n",
    "\n",
    "\n",
    "window.mainloop()"
   ]
  },
  {
   "cell_type": "markdown",
   "id": "6bcbf238",
   "metadata": {},
   "source": [
    "## Dodawanie foty do labela"
   ]
  },
  {
   "cell_type": "code",
   "execution_count": 1,
   "id": "374e020d",
   "metadata": {},
   "outputs": [],
   "source": [
    "from tkinter import *\n",
    "window = Tk() #definicja okna\n",
    "\n",
    "jrt_photo = PhotoImage(file='jrt.png')\n",
    "\n",
    "myLabel = Label(window, \n",
    "                text= \"Label\", \n",
    "                font=(\"Comic Sans\", 40, 'bold'), \n",
    "                fg='blue', \n",
    "                bg='yellow',\n",
    "               relief = RAISED, #obwodka\n",
    "               bd=10,#grubosc obwodki\n",
    "               padx=20,#pixele dookola w x\n",
    "               pady=20,#pixele dookola w y\n",
    "               image=jrt_photo,\n",
    "               compound = 'bottom') # dodanie zdjecia\n",
    "\n",
    "#jrtLabel = Label(window, bitmap = jrt_photo)\n",
    "\n",
    "myLabel.pack()\n",
    "#myLabel.place(x=50, y=50)\n",
    "\n",
    "\n",
    "window.mainloop()"
   ]
  },
  {
   "cell_type": "markdown",
   "id": "0c18a9fc",
   "metadata": {},
   "source": [
    "## Buttony"
   ]
  },
  {
   "cell_type": "code",
   "execution_count": 3,
   "id": "53228b24",
   "metadata": {},
   "outputs": [
    {
     "name": "stdout",
     "output_type": "stream",
     "text": [
      "1\n",
      "2\n",
      "3\n",
      "4\n"
     ]
    }
   ],
   "source": [
    "from tkinter import *\n",
    "window = Tk() #definicja okna\n",
    "\n",
    "count = 0\n",
    "\n",
    "def funkcja():\n",
    "    global count\n",
    "    count+=1\n",
    "    print(count)\n",
    "\n",
    "buttonImage = PhotoImage(file='button.png')\n",
    "    \n",
    "guzik = Button(window, text=\"click me\",\n",
    "              command = funkcja, # definiowanie callbacka\n",
    "              fg='blue', \n",
    "              bg='yellow',\n",
    "              activeforeground = 'yellow', # definicja kolorow dla guzika aktywnego\n",
    "              activebackground = 'blue',\n",
    "              state = ACTIVE,\n",
    "              image=buttonImage,\n",
    "              compound='left') # active - defaultowo / desiable \n",
    "guzik.pack()\n",
    "\n",
    "window.mainloop()"
   ]
  },
  {
   "cell_type": "markdown",
   "id": "6156446b",
   "metadata": {},
   "source": [
    "# Entry Box"
   ]
  },
  {
   "cell_type": "code",
   "execution_count": 17,
   "id": "17e6098b",
   "metadata": {},
   "outputs": [
    {
     "name": "stdout",
     "output_type": "stream",
     "text": [
      "Hello MATI\n"
     ]
    }
   ],
   "source": [
    "from tkinter import *\n",
    "window = Tk() #definicja okna\n",
    "\n",
    "def submit():\n",
    "    print(\"Hello {}\".format(entry.get())) # pobieranie zawartosci z entry boxa\n",
    "    #entry.config(state=DISABLED) #zmiana parametrów entry boxa, w tym przypadku disablowanie go po wpisaniu imienia\n",
    "    \n",
    "def delete():\n",
    "    entry.delete(0, END)  #kasowanie zawartosci entry boxa\n",
    "\n",
    "\n",
    "entry = Entry(window,\n",
    "             font = ('Arial', 50), # standardowo czcionka\n",
    "             fg='blue', \n",
    "             bg='yellow',\n",
    "             show=\"*\") #zastepowanie liter gwiazdkami na ekranie\n",
    "\n",
    "entry.insert(0, \"MATI\") # defaultowy text\n",
    "\n",
    "submitButton=Button(window, \n",
    "                    command = submit,\n",
    "                   text=\"submit\")\n",
    "\n",
    "deleteButton=Button(window, \n",
    "                    command = delete,\n",
    "                   text=\"del\")\n",
    "\n",
    "\n",
    "entry.pack(side=LEFT)\n",
    "submitButton.pack(side=RIGHT)\n",
    "deleteButton.pack(side = RIGHT)\n",
    "\n",
    "\n",
    "window.mainloop()"
   ]
  },
  {
   "cell_type": "markdown",
   "id": "1002285c",
   "metadata": {},
   "source": [
    "# Checkbuttons"
   ]
  },
  {
   "cell_type": "code",
   "execution_count": 27,
   "id": "30e17176",
   "metadata": {},
   "outputs": [
    {
     "name": "stdout",
     "output_type": "stream",
     "text": [
      "True\n",
      "False\n",
      "True\n",
      "False\n"
     ]
    }
   ],
   "source": [
    "from tkinter import *\n",
    "window = Tk() #definicja okna\n",
    "\n",
    "x = BooleanVar()\n",
    "\n",
    "def display():\n",
    "    print(x.get())\n",
    "\n",
    "checkButton = Checkbutton(window,\n",
    "                         text = \"Zgoda\", #text przy buttonie\n",
    "                         variable=x, #zmienna przypisana do stanu\n",
    "                         onvalue=True, #stan zmiennej przy wcisnietym guziki\n",
    "                         offvalue=False,#stan przy wylaczonym\n",
    "                         command=display) \n",
    "checkButton.pack()\n",
    "\n",
    "window.mainloop()"
   ]
  },
  {
   "cell_type": "markdown",
   "id": "23472ee8",
   "metadata": {},
   "source": [
    "# Radiobuttons"
   ]
  },
  {
   "cell_type": "code",
   "execution_count": 36,
   "id": "68fefb83",
   "metadata": {},
   "outputs": [
    {
     "name": "stdout",
     "output_type": "stream",
     "text": [
      "1\n",
      "22222\n"
     ]
    }
   ],
   "source": [
    "from tkinter import *\n",
    "window = Tk() #definicja okna\n",
    "\n",
    "x = IntVar()\n",
    "\n",
    "def display():\n",
    "    print(x.get())\n",
    "\n",
    "radioButton = Radiobutton(window,\n",
    "                         text = \"Zgoda\", #text przy buttonie\n",
    "                         variable = x,\n",
    "                          value = 1,\n",
    "                         command=display) \n",
    "radioButton1 = Radiobutton(window,\n",
    "                         text = \"Zgoda\", #text przy buttonie\n",
    "                         variable = x, # zaznaczenie danego radio buttona przypisuje wartosc value do zmiennej x\n",
    "                           value = 22222,\n",
    "                         command=display) \n",
    "radioButton.pack()\n",
    "radioButton1.pack()\n",
    "\n",
    "window.mainloop()"
   ]
  },
  {
   "cell_type": "markdown",
   "id": "158c4b2c",
   "metadata": {},
   "source": [
    "# Sliding sale"
   ]
  },
  {
   "cell_type": "code",
   "execution_count": 1,
   "id": "ba34feec",
   "metadata": {},
   "outputs": [],
   "source": [
    "from tkinter import *\n",
    "window = Tk() #definicja okna\n",
    "\n",
    "scale = Scale(window, \n",
    "              from_ = 0, \n",
    "              to=100, \n",
    "              resolution = 10 )\n",
    "\n",
    "\n",
    "scale.pack()\n",
    "window.mainloop()"
   ]
  },
  {
   "cell_type": "markdown",
   "id": "65650652",
   "metadata": {},
   "source": [
    "# Text area"
   ]
  },
  {
   "cell_type": "code",
   "execution_count": 28,
   "id": "a6420998",
   "metadata": {},
   "outputs": [],
   "source": [
    "from tkinter import *\n",
    "window = Tk() #definicja okna\n",
    "\n",
    "def submit():\n",
    "    inpu = textArea.get(\"1.0\", END)\n",
    "    print(inpu)\n",
    "    print(textArea.winfo_height())\n",
    "\n",
    "\n",
    "textArea = Text(window,\n",
    "               bg=\"light yellow\",\n",
    "               font = (\"Ink Free\", 10),\n",
    "               height = 10,\n",
    "               width = 50)\n",
    "textArea.insert(\"1.0\",\"Write something...\")\n",
    "textArea.pack()\n",
    "\n",
    "\n",
    "button = Button(window,\n",
    "               text = \"submit\",\n",
    "               command = submit)\n",
    "button.pack()\n",
    "\n",
    "\n",
    "window.mainloop()"
   ]
  },
  {
   "cell_type": "markdown",
   "id": "895afbc5",
   "metadata": {},
   "source": [
    "# File dialog"
   ]
  },
  {
   "cell_type": "code",
   "execution_count": 40,
   "id": "071cf8ef",
   "metadata": {},
   "outputs": [
    {
     "name": "stdout",
     "output_type": "stream",
     "text": [
      "\n",
      "\n"
     ]
    }
   ],
   "source": [
    "from tkinter import *\n",
    "from tkinter import filedialog\n",
    "window = Tk() #definicja okna\n",
    "\n",
    "def openCommand():\n",
    "    print(filedialog.askopenfilename(filetypes=[(\"Excel file\",\"*.xlsx\"),(\"Excel file 97-2003\",\"*.xls\")])) # sciezka do pliku\n",
    "\n",
    "openButton = Button(window,\n",
    "                   text = \"Open\",\n",
    "                   command = openCommand)\n",
    "\n",
    "openButton.pack()\n",
    "\n",
    "window.mainloop()"
   ]
  },
  {
   "cell_type": "markdown",
   "id": "aad2c5d6",
   "metadata": {},
   "source": [
    "# Menu Bar"
   ]
  },
  {
   "cell_type": "code",
   "execution_count": 1,
   "id": "c88f0e9b",
   "metadata": {},
   "outputs": [],
   "source": [
    "from tkinter import *\n",
    "window = Tk() #definicja okna\n",
    "\n",
    "def openfi():\n",
    "    print(\"file has been opened\")\n",
    "\n",
    "\n",
    "menubar = Menu(window) # tworzenie obiektu Menu dla roota window\n",
    "window.config(menu=menubar) #zmiana konfiguracji roora, dodajaca menu\n",
    "\n",
    "fileMenu = Menu(menubar, tearoff=0)#stworzenie podmenu\n",
    "menubar.add_cascade(label=\"File\", menu=fileMenu)#dodanie podmenu do glownego menu\n",
    "fileMenu.add_command(label=\"Open\", command = openfi)\n",
    "fileMenu.add_command(label=\"Exit\", command = quit)\n",
    "\n",
    "window.mainloop()"
   ]
  },
  {
   "cell_type": "markdown",
   "id": "cd4c90b8",
   "metadata": {},
   "source": [
    "# Frames"
   ]
  },
  {
   "cell_type": "code",
   "execution_count": 7,
   "id": "b801f4c5",
   "metadata": {},
   "outputs": [],
   "source": [
    "from tkinter import *\n",
    "window = Tk() #definicja okna\n",
    "\n",
    "frame=Frame(window)\n",
    "\n",
    "button = Button(frame, text=\"W\").pack(side=TOP)\n",
    "button = Button(frame, text=\"A\").pack(side=LEFT)\n",
    "button = Button(frame, text=\"S\").pack(side=LEFT)\n",
    "button = Button(frame, text=\"D\").pack(side=LEFT)\n",
    "\n",
    "frame.place(x=0,y=0)\n",
    "\n",
    "window.mainloop()"
   ]
  },
  {
   "cell_type": "markdown",
   "id": "0d8c31bb",
   "metadata": {},
   "source": [
    "# Tabs"
   ]
  },
  {
   "cell_type": "code",
   "execution_count": 13,
   "id": "71a36d54",
   "metadata": {},
   "outputs": [],
   "source": [
    "from tkinter import *\n",
    "from tkinter import ttk\n",
    "window = Tk() #definicja okna\n",
    "notebook = ttk.Notebook(window)\n",
    "\n",
    "tab1=Frame(notebook)\n",
    "tab2=Frame(notebook)\n",
    "\n",
    "\n",
    "\n",
    "notebook.add(tab1, text=\"tab1\")\n",
    "notebook.add(tab2, text=\"tab2\")\n",
    "\n",
    "notebook.pack()\n",
    "\n",
    "window.mainloop()"
   ]
  },
  {
   "cell_type": "markdown",
   "id": "90b0ee4e",
   "metadata": {},
   "source": [
    "# Grid geometry manager"
   ]
  },
  {
   "cell_type": "code",
   "execution_count": 29,
   "id": "ce1c715d",
   "metadata": {},
   "outputs": [],
   "source": [
    "from tkinter import *\n",
    "#.grid() zamiast pack() organizuje widgety w siatke\n",
    "window = Tk() #definicja okna\n",
    "\n",
    "label1 = Label(text = \"label 1\", bg=\"blue\", width=10).grid(row=0, column=0)\n",
    "label1 = Label(text = \"label 2\", bg=\"yellow\",width=10).grid(row=0, column=1)\n",
    "label1 = Label(text = \"label 3\", bg=\"purple\",width=21).grid(row=1, column=0,columnspan=2)\n",
    "label1 = Label(text = \"label 4\", bg=\"black\", fg=\"white\",width=10).grid(row=2, column=0)\n",
    "label1 = Label(text = \"label 5\", bg=\"green\",width=10).grid(row=2, column=1)\n",
    "\n",
    "window.mainloop()"
   ]
  },
  {
   "cell_type": "markdown",
   "id": "378f069d",
   "metadata": {},
   "source": [
    "# Figury (canvas)"
   ]
  },
  {
   "cell_type": "code",
   "execution_count": 39,
   "id": "06db456c",
   "metadata": {},
   "outputs": [],
   "source": [
    "from tkinter import *\n",
    "window = Tk() #definicja okna\n",
    "canvas = Canvas(window,bg=\"light yellow\", width=200, height = 200)\n",
    "\n",
    "canvas.create_oval(75,75,125,125, fill=\"red\", width=10)\n",
    "\n",
    "canvas.pack()\n",
    "window.mainloop()"
   ]
  },
  {
   "cell_type": "markdown",
   "id": "f5193900",
   "metadata": {},
   "source": [
    "# Key Events"
   ]
  },
  {
   "cell_type": "code",
   "execution_count": 43,
   "id": "9ede63d2",
   "metadata": {},
   "outputs": [
    {
     "name": "stdout",
     "output_type": "stream",
     "text": [
      "j\n",
      "k\n",
      "l\n",
      "Return\n",
      "space\n",
      "BackSpace\n",
      "XF86AudioMute\n",
      "XF86AudioMute\n",
      "F1\n",
      "XF86AudioLowerVolume\n",
      "F2\n",
      "F7\n",
      "F8\n",
      "q\n",
      "w\n",
      "e\n",
      "Tab\n",
      "Caps_Lock\n",
      "Shift_L\n",
      "Escape\n"
     ]
    }
   ],
   "source": [
    "from tkinter import *\n",
    "window = Tk() #definicja okna\n",
    "\n",
    "def func(event):\n",
    "    print(event.keysym)\n",
    "\n",
    "window.bind(\"<Key>\", func)\n",
    "\n",
    "window.mainloop() "
   ]
  },
  {
   "cell_type": "markdown",
   "id": "30697e3e",
   "metadata": {},
   "source": [
    "# Mouse Events\n",
    "\n"
   ]
  },
  {
   "cell_type": "code",
   "execution_count": 48,
   "id": "6e4cde4f",
   "metadata": {
    "collapsed": true
   },
   "outputs": [
    {
     "name": "stdout",
     "output_type": "stream",
     "text": [
      "Wspolrzedne : 163, 69\n",
      "Wspolrzedne : 145, 59\n",
      "Wspolrzedne : 124, 49\n",
      "Wspolrzedne : 111, 42\n",
      "Wspolrzedne : 100, 37\n",
      "Wspolrzedne : 93, 32\n",
      "Wspolrzedne : 85, 29\n",
      "Wspolrzedne : 80, 26\n",
      "Wspolrzedne : 77, 25\n",
      "Wspolrzedne : 75, 23\n",
      "Wspolrzedne : 73, 23\n",
      "Wspolrzedne : 71, 22\n",
      "Wspolrzedne : 69, 21\n",
      "Wspolrzedne : 68, 21\n",
      "Wspolrzedne : 67, 21\n",
      "Wspolrzedne : 68, 22\n",
      "Wspolrzedne : 70, 24\n",
      "Wspolrzedne : 73, 28\n",
      "Wspolrzedne : 75, 31\n",
      "Wspolrzedne : 78, 33\n",
      "Wspolrzedne : 79, 37\n",
      "Wspolrzedne : 82, 39\n",
      "Wspolrzedne : 83, 41\n",
      "Wspolrzedne : 84, 43\n",
      "Wspolrzedne : 85, 45\n",
      "Wspolrzedne : 85, 46\n",
      "Wspolrzedne : 85, 48\n",
      "Wspolrzedne : 86, 50\n",
      "Wspolrzedne : 87, 51\n",
      "Wspolrzedne : 87, 52\n",
      "Wspolrzedne : 87, 54\n",
      "Wspolrzedne : 88, 55\n",
      "Wspolrzedne : 88, 56\n",
      "Wspolrzedne : 89, 57\n",
      "Wspolrzedne : 91, 57\n",
      "Wspolrzedne : 91, 58\n",
      "Wspolrzedne : 92, 58\n",
      "Wspolrzedne : 93, 58\n",
      "Wspolrzedne : 94, 59\n",
      "Wspolrzedne : 94, 60\n",
      "Wspolrzedne : 94, 61\n",
      "Wspolrzedne : 94, 62\n",
      "Wspolrzedne : 94, 63\n",
      "Wspolrzedne : 94, 65\n",
      "Wspolrzedne : 94, 66\n",
      "Wspolrzedne : 93, 66\n",
      "Wspolrzedne : 92, 64\n",
      "Wspolrzedne : 91, 61\n",
      "Wspolrzedne : 91, 59\n",
      "Wspolrzedne : 91, 57\n",
      "Wspolrzedne : 91, 56\n",
      "Wspolrzedne : 92, 55\n",
      "Wspolrzedne : 92, 54\n",
      "Wspolrzedne : 93, 53\n",
      "Wspolrzedne : 94, 53\n",
      "Wspolrzedne : 94, 54\n",
      "Wspolrzedne : 95, 55\n",
      "Wspolrzedne : 96, 58\n",
      "Wspolrzedne : 96, 61\n",
      "Wspolrzedne : 96, 64\n",
      "Wspolrzedne : 96, 65\n",
      "Wspolrzedne : 96, 66\n",
      "Wspolrzedne : 96, 67\n",
      "Wspolrzedne : 95, 67\n",
      "Wspolrzedne : 95, 66\n",
      "Wspolrzedne : 94, 65\n",
      "Wspolrzedne : 94, 64\n",
      "Wspolrzedne : 94, 63\n",
      "Wspolrzedne : 94, 62\n",
      "Wspolrzedne : 94, 61\n",
      "Wspolrzedne : 95, 61\n",
      "Wspolrzedne : 96, 62\n",
      "Wspolrzedne : 98, 64\n",
      "Wspolrzedne : 102, 65\n",
      "Wspolrzedne : 108, 66\n",
      "Wspolrzedne : 120, 68\n",
      "Wspolrzedne : 145, 71\n",
      "Wspolrzedne : 178, 74\n",
      "Wspolrzedne : 192, 152\n",
      "Wspolrzedne : 189, 150\n",
      "Wspolrzedne : 185, 146\n",
      "Wspolrzedne : 182, 142\n",
      "Wspolrzedne : 179, 141\n",
      "Wspolrzedne : 179, 140\n",
      "Wspolrzedne : 178, 139\n",
      "Wspolrzedne : 177, 139\n",
      "Wspolrzedne : 177, 138\n",
      "Wspolrzedne : 177, 137\n",
      "Wspolrzedne : 177, 136\n",
      "Wspolrzedne : 177, 134\n",
      "Wspolrzedne : 177, 132\n",
      "Wspolrzedne : 176, 130\n",
      "Wspolrzedne : 176, 127\n",
      "Wspolrzedne : 176, 124\n",
      "Wspolrzedne : 176, 123\n",
      "Wspolrzedne : 176, 122\n",
      "Wspolrzedne : 176, 121\n",
      "Wspolrzedne : 177, 120\n",
      "Wspolrzedne : 178, 120\n",
      "Wspolrzedne : 178, 121\n",
      "Wspolrzedne : 179, 121\n",
      "Wspolrzedne : 179, 123\n",
      "Wspolrzedne : 180, 124\n",
      "Wspolrzedne : 180, 125\n",
      "Wspolrzedne : 180, 127\n",
      "Wspolrzedne : 180, 128\n",
      "Wspolrzedne : 180, 129\n",
      "Wspolrzedne : 179, 130\n",
      "Wspolrzedne : 178, 131\n",
      "Wspolrzedne : 176, 132\n",
      "Wspolrzedne : 175, 133\n",
      "Wspolrzedne : 174, 134\n",
      "Wspolrzedne : 172, 134\n",
      "Wspolrzedne : 170, 134\n",
      "Wspolrzedne : 169, 134\n",
      "Wspolrzedne : 168, 134\n",
      "Wspolrzedne : 167, 133\n",
      "Wspolrzedne : 166, 132\n",
      "Wspolrzedne : 165, 130\n",
      "Wspolrzedne : 164, 129\n",
      "Wspolrzedne : 164, 128\n",
      "Wspolrzedne : 164, 127\n",
      "Wspolrzedne : 164, 126\n",
      "Wspolrzedne : 164, 125\n",
      "Wspolrzedne : 164, 124\n",
      "Wspolrzedne : 165, 123\n",
      "Wspolrzedne : 165, 122\n",
      "Wspolrzedne : 166, 122\n",
      "Wspolrzedne : 167, 121\n",
      "Wspolrzedne : 168, 121\n",
      "Wspolrzedne : 169, 121\n",
      "Wspolrzedne : 169, 122\n",
      "Wspolrzedne : 170, 123\n",
      "Wspolrzedne : 170, 124\n",
      "Wspolrzedne : 171, 126\n",
      "Wspolrzedne : 171, 125\n",
      "Wspolrzedne : 171, 124\n",
      "Wspolrzedne : 172, 124\n",
      "Wspolrzedne : 171, 123\n",
      "Wspolrzedne : 170, 123\n",
      "Wspolrzedne : 168, 123\n",
      "Wspolrzedne : 165, 122\n",
      "Wspolrzedne : 162, 122\n",
      "Wspolrzedne : 158, 121\n",
      "Wspolrzedne : 152, 120\n",
      "Wspolrzedne : 148, 120\n",
      "Wspolrzedne : 144, 118\n",
      "Wspolrzedne : 138, 115\n",
      "Wspolrzedne : 136, 113\n",
      "Wspolrzedne : 134, 111\n",
      "Wspolrzedne : 132, 109\n",
      "Wspolrzedne : 131, 108\n",
      "Wspolrzedne : 130, 106\n",
      "Wspolrzedne : 130, 104\n",
      "Wspolrzedne : 130, 103\n",
      "Wspolrzedne : 131, 102\n",
      "Wspolrzedne : 132, 102\n",
      "Wspolrzedne : 134, 103\n",
      "Wspolrzedne : 136, 105\n",
      "Wspolrzedne : 137, 107\n",
      "Wspolrzedne : 137, 108\n",
      "Wspolrzedne : 137, 109\n",
      "Wspolrzedne : 138, 111\n",
      "Wspolrzedne : 138, 112\n",
      "Wspolrzedne : 136, 112\n",
      "Wspolrzedne : 134, 112\n",
      "Wspolrzedne : 132, 112\n",
      "Wspolrzedne : 131, 111\n",
      "Wspolrzedne : 126, 108\n",
      "Wspolrzedne : 124, 105\n",
      "Wspolrzedne : 123, 103\n",
      "Wspolrzedne : 122, 102\n",
      "Wspolrzedne : 121, 100\n",
      "Wspolrzedne : 122, 99\n",
      "Wspolrzedne : 123, 98\n",
      "Wspolrzedne : 124, 98\n",
      "Wspolrzedne : 127, 98\n",
      "Wspolrzedne : 129, 98\n",
      "Wspolrzedne : 133, 100\n",
      "Wspolrzedne : 137, 104\n",
      "Wspolrzedne : 138, 106\n",
      "Wspolrzedne : 139, 108\n",
      "Wspolrzedne : 139, 110\n",
      "Wspolrzedne : 139, 111\n",
      "Wspolrzedne : 138, 111\n",
      "Wspolrzedne : 137, 111\n",
      "Wspolrzedne : 136, 111\n",
      "Wspolrzedne : 132, 110\n",
      "Wspolrzedne : 131, 109\n",
      "Wspolrzedne : 129, 106\n",
      "Wspolrzedne : 127, 102\n",
      "Wspolrzedne : 125, 101\n",
      "Wspolrzedne : 125, 99\n",
      "Wspolrzedne : 125, 98\n",
      "Wspolrzedne : 125, 97\n",
      "Wspolrzedne : 126, 97\n",
      "Wspolrzedne : 127, 97\n",
      "Wspolrzedne : 129, 97\n",
      "Wspolrzedne : 131, 97\n",
      "Wspolrzedne : 132, 99\n",
      "Wspolrzedne : 134, 101\n",
      "Wspolrzedne : 137, 103\n",
      "Wspolrzedne : 138, 106\n",
      "Wspolrzedne : 139, 108\n",
      "Wspolrzedne : 140, 110\n",
      "Wspolrzedne : 141, 111\n",
      "Wspolrzedne : 141, 112\n",
      "Wspolrzedne : 142, 112\n",
      "Wspolrzedne : 142, 113\n",
      "Wspolrzedne : 144, 114\n",
      "Wspolrzedne : 146, 114\n",
      "Wspolrzedne : 150, 116\n",
      "Wspolrzedne : 154, 118\n",
      "Wspolrzedne : 160, 120\n",
      "Wspolrzedne : 162, 120\n",
      "Wspolrzedne : 171, 123\n",
      "Wspolrzedne : 184, 127\n"
     ]
    }
   ],
   "source": [
    "from tkinter import *\n",
    "window = Tk() #definicja okna\n",
    "\n",
    "def klik(event):\n",
    "    print(\"Wspolrzedne klik: {}, {}\".format(event.x, event.y))\n",
    "    \n",
    "def pusc(event):\n",
    "    print(\"Wspolrzedne pusc: {}, {}\".format(event.x, event.y))\n",
    "    \n",
    "def func(event):\n",
    "    print(\"Wspolrzedne : {}, {}\".format(event.x, event.y))\n",
    "\n",
    "#window.bind(\"<Button-1>\", klik) #button 1 to lewy, 2 to kolko, 3 to prawy\n",
    "#window.bind(\"<ButtonRelease>\", pusc) #button 1 to lewy, 2 to kolko, 3 to prawy\n",
    "#window.bind(\"<ButtonRelease>\", func)\n",
    "window.bind(\"<Motion>\", func)\n",
    "#window.bind(\"<Leave>\", func)\n",
    "#window.bind(\"<Enter>\", func)\n",
    "\n",
    "\n",
    "window.mainloop() "
   ]
  },
  {
   "cell_type": "code",
   "execution_count": null,
   "id": "e8c5cbb6",
   "metadata": {},
   "outputs": [],
   "source": []
  },
  {
   "cell_type": "code",
   "execution_count": null,
   "id": "9c2d54b7",
   "metadata": {},
   "outputs": [],
   "source": []
  },
  {
   "cell_type": "code",
   "execution_count": null,
   "id": "68a02f26",
   "metadata": {},
   "outputs": [],
   "source": []
  },
  {
   "cell_type": "code",
   "execution_count": null,
   "id": "9e9d25fd",
   "metadata": {},
   "outputs": [],
   "source": []
  },
  {
   "cell_type": "code",
   "execution_count": null,
   "id": "da1b019d",
   "metadata": {},
   "outputs": [],
   "source": []
  }
 ],
 "metadata": {
  "kernelspec": {
   "display_name": "Python 3 (ipykernel)",
   "language": "python",
   "name": "python3"
  },
  "language_info": {
   "codemirror_mode": {
    "name": "ipython",
    "version": 3
   },
   "file_extension": ".py",
   "mimetype": "text/x-python",
   "name": "python",
   "nbconvert_exporter": "python",
   "pygments_lexer": "ipython3",
   "version": "3.10.5"
  }
 },
 "nbformat": 4,
 "nbformat_minor": 5
}
