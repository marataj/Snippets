{
 "cells": [
  {
   "cell_type": "markdown",
   "id": "52b5d91d",
   "metadata": {},
   "source": [
    "https://www.youtube.com/watch?v=6zmI_BU18xk"
   ]
  },
  {
   "cell_type": "code",
   "execution_count": 1,
   "id": "41a4d1fd",
   "metadata": {},
   "outputs": [],
   "source": [
    "import queue\n",
    "q = queue.Queue() ############ queue.LifoQueue()\n",
    "numbers=[10,20,30,40]\n",
    "for number in numbers:\n",
    "    q.put(number)"
   ]
  },
  {
   "cell_type": "code",
   "execution_count": 3,
   "id": "8214db45",
   "metadata": {},
   "outputs": [
    {
     "name": "stdout",
     "output_type": "stream",
     "text": [
      "10\n"
     ]
    }
   ],
   "source": [
    "print(q.get())"
   ]
  },
  {
   "cell_type": "code",
   "execution_count": 5,
   "id": "a49e06d2",
   "metadata": {},
   "outputs": [
    {
     "name": "stdout",
     "output_type": "stream",
     "text": [
      "20\n",
      "30\n",
      "40\n"
     ]
    }
   ],
   "source": [
    "while not q.empty():\n",
    "    print(q.get())"
   ]
  },
  {
   "cell_type": "code",
   "execution_count": 6,
   "id": "d969198d",
   "metadata": {},
   "outputs": [],
   "source": [
    "qu = queue.PriorityQueue()"
   ]
  },
  {
   "cell_type": "code",
   "execution_count": 7,
   "id": "46552003",
   "metadata": {},
   "outputs": [],
   "source": [
    " priority_tasks=[\n",
    "     (3,\"trzeci\"),\n",
    "     (5,\"piąty\"),\n",
    "     (1,\"Pierwszy\")\n",
    " ]\n",
    "    \n",
    "for task in priority_tasks:\n",
    "    qu.put(task)"
   ]
  },
  {
   "cell_type": "code",
   "execution_count": 9,
   "id": "7b79497c",
   "metadata": {},
   "outputs": [
    {
     "name": "stdout",
     "output_type": "stream",
     "text": [
      "(1, 'Pierwszy')\n",
      "(3, 'trzeci')\n",
      "(5, 'piąty')\n"
     ]
    }
   ],
   "source": [
    "while not qu.empty():\n",
    "    print(qu.get())"
   ]
  },
  {
   "cell_type": "code",
   "execution_count": 29,
   "id": "f00f1c64",
   "metadata": {},
   "outputs": [
    {
     "name": "stdout",
     "output_type": "stream",
     "text": [
      "0.08015370917850195\n",
      "0.45594588118356716\n"
     ]
    }
   ],
   "source": [
    "import random\n",
    "\n",
    "print(random.random())\n",
    "print(random.random())"
   ]
  },
  {
   "cell_type": "code",
   "execution_count": 30,
   "id": "5446fb06",
   "metadata": {},
   "outputs": [],
   "source": [
    "import os"
   ]
  },
  {
   "cell_type": "code",
   "execution_count": 33,
   "id": "846a7600",
   "metadata": {},
   "outputs": [
    {
     "data": {
      "text/plain": [
       "'11b0bd2fdc'"
      ]
     },
     "execution_count": 33,
     "metadata": {},
     "output_type": "execute_result"
    }
   ],
   "source": [
    "os.urandom(5).hex()"
   ]
  },
  {
   "cell_type": "code",
   "execution_count": null,
   "id": "af9e845d",
   "metadata": {},
   "outputs": [],
   "source": []
  }
 ],
 "metadata": {
  "kernelspec": {
   "display_name": "Python 3 (ipykernel)",
   "language": "python",
   "name": "python3"
  },
  "language_info": {
   "codemirror_mode": {
    "name": "ipython",
    "version": 3
   },
   "file_extension": ".py",
   "mimetype": "text/x-python",
   "name": "python",
   "nbconvert_exporter": "python",
   "pygments_lexer": "ipython3",
   "version": "3.10.5"
  }
 },
 "nbformat": 4,
 "nbformat_minor": 5
}
