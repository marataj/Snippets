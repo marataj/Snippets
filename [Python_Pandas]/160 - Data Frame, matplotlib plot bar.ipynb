{
 "cells": [
  {
   "cell_type": "code",
   "execution_count": 1,
   "id": "5531dfe1",
   "metadata": {},
   "outputs": [],
   "source": [
    "import pandas as pd"
   ]
  },
  {
   "cell_type": "code",
   "execution_count": 33,
   "id": "a6c43317",
   "metadata": {},
   "outputs": [
    {
     "name": "stderr",
     "output_type": "stream",
     "text": [
      "C:\\ProgramData\\Anaconda3\\lib\\site-packages\\IPython\\core\\interactiveshell.py:3165: DtypeWarning: Columns (4) have mixed types.Specify dtype option on import or set low_memory=False.\n",
      "  has_raised = await self.run_ast_nodes(code_ast.body, cell_name,\n"
     ]
    }
   ],
   "source": [
    "cars=pd.read_csv(r\"D:\\temp\\cars_selling.csv\", usecols=[\"name\",\"seller\",\"offerType\",\"price\",\"vehicleType\",\"gearbox\",\"fuelType\"])"
   ]
  },
  {
   "cell_type": "code",
   "execution_count": 70,
   "id": "3e1a428e",
   "metadata": {},
   "outputs": [
    {
     "data": {
      "text/plain": [
       "limousine     95245\n",
       "kleinwagen    79607\n",
       "kombi         67212\n",
       "bus           30048\n",
       "cabrio        22661\n",
       "coupe         18809\n",
       "suv           14545\n",
       "andere         3340\n",
       "1998              2\n",
       "2005              2\n",
       "1996              1\n",
       "1992              1\n",
       "Name: vehicleType, dtype: int64"
      ]
     },
     "execution_count": 70,
     "metadata": {},
     "output_type": "execute_result"
    }
   ],
   "source": [
    "cars[\"vehicleType\"].value_counts()"
   ]
  },
  {
   "cell_type": "code",
   "execution_count": 57,
   "id": "09286c42",
   "metadata": {},
   "outputs": [],
   "source": [
    "filter1=cars.vehicleType!=(\"1998\")\n",
    "filter2=cars.vehicleType!=(\"1996\")\n",
    "filter3=cars.vehicleType!=(\"1992\")\n",
    "filter4=cars.vehicleType!=(\"2005\")"
   ]
  },
  {
   "cell_type": "code",
   "execution_count": 75,
   "id": "bc447347",
   "metadata": {},
   "outputs": [],
   "source": [
    "cars3=cars[filter1 & filter2 & filter3 & filter4]"
   ]
  },
  {
   "cell_type": "code",
   "execution_count": 76,
   "id": "7ab368b4",
   "metadata": {},
   "outputs": [],
   "source": [
    "cars3.vehicleType=cars2.vehicleType.astype('category')"
   ]
  },
  {
   "cell_type": "code",
   "execution_count": 79,
   "id": "7e421883",
   "metadata": {},
   "outputs": [
    {
     "name": "stderr",
     "output_type": "stream",
     "text": [
      "<ipython-input-79-f21c2b8578f2>:1: SettingWithCopyWarning: \n",
      "A value is trying to be set on a copy of a slice from a DataFrame\n",
      "\n",
      "See the caveats in the documentation: https://pandas.pydata.org/pandas-docs/stable/user_guide/indexing.html#returning-a-view-versus-a-copy\n",
      "  cars3.dropna(inplace=True)\n"
     ]
    }
   ],
   "source": [
    "cars3.dropna(inplace=True)"
   ]
  },
  {
   "cell_type": "code",
   "execution_count": 92,
   "id": "73d957a7",
   "metadata": {
    "scrolled": true
   },
   "outputs": [
    {
     "name": "stderr",
     "output_type": "stream",
     "text": [
      "C:\\ProgramData\\Anaconda3\\lib\\site-packages\\pandas\\core\\generic.py:5494: SettingWithCopyWarning: \n",
      "A value is trying to be set on a copy of a slice from a DataFrame.\n",
      "Try using .loc[row_indexer,col_indexer] = value instead\n",
      "\n",
      "See the caveats in the documentation: https://pandas.pydata.org/pandas-docs/stable/user_guide/indexing.html#returning-a-view-versus-a-copy\n",
      "  self[name] = value\n"
     ]
    }
   ],
   "source": [
    "cars3.price=cars3.price.astype(\"int\")"
   ]
  },
  {
   "cell_type": "code",
   "execution_count": 93,
   "id": "3d4bd69e",
   "metadata": {},
   "outputs": [
    {
     "data": {
      "text/plain": [
       "2147483647"
      ]
     },
     "execution_count": 93,
     "metadata": {},
     "output_type": "execute_result"
    }
   ],
   "source": [
    "cars3.price.max()"
   ]
  },
  {
   "cell_type": "code",
   "execution_count": 94,
   "id": "1ebac0df",
   "metadata": {},
   "outputs": [
    {
     "data": {
      "text/plain": [
       "15902.36206089906"
      ]
     },
     "execution_count": 94,
     "metadata": {},
     "output_type": "execute_result"
    }
   ],
   "source": [
    "cars3.price.mean()"
   ]
  },
  {
   "cell_type": "code",
   "execution_count": 103,
   "id": "289829d2",
   "metadata": {},
   "outputs": [
    {
     "data": {
      "text/html": [
       "<div>\n",
       "<style scoped>\n",
       "    .dataframe tbody tr th:only-of-type {\n",
       "        vertical-align: middle;\n",
       "    }\n",
       "\n",
       "    .dataframe tbody tr th {\n",
       "        vertical-align: top;\n",
       "    }\n",
       "\n",
       "    .dataframe thead th {\n",
       "        text-align: right;\n",
       "    }\n",
       "</style>\n",
       "<table border=\"1\" class=\"dataframe\">\n",
       "  <thead>\n",
       "    <tr style=\"text-align: right;\">\n",
       "      <th></th>\n",
       "      <th>name</th>\n",
       "      <th>seller</th>\n",
       "      <th>offerType</th>\n",
       "      <th>price</th>\n",
       "      <th>vehicleType</th>\n",
       "      <th>gearbox</th>\n",
       "      <th>fuelType</th>\n",
       "    </tr>\n",
       "  </thead>\n",
       "  <tbody>\n",
       "    <tr>\n",
       "      <th>359164</th>\n",
       "      <td>Tausche_BMW_E46_Touring_Diesel</td>\n",
       "      <td>privat</td>\n",
       "      <td>Angebot</td>\n",
       "      <td>10000000</td>\n",
       "      <td>kombi</td>\n",
       "      <td>manuell</td>\n",
       "      <td>diesel</td>\n",
       "    </tr>\n",
       "    <tr>\n",
       "      <th>363730</th>\n",
       "      <td>Vw_Passat_35i_1.8_schlachtfest</td>\n",
       "      <td>privat</td>\n",
       "      <td>Angebot</td>\n",
       "      <td>10000000</td>\n",
       "      <td>kombi</td>\n",
       "      <td>manuell</td>\n",
       "      <td>benzin</td>\n",
       "    </tr>\n",
       "    <tr>\n",
       "      <th>54295</th>\n",
       "      <td>Mazda_5_2.0_CD_DPF_Exclusive</td>\n",
       "      <td>privat</td>\n",
       "      <td>Angebot</td>\n",
       "      <td>10000000</td>\n",
       "      <td>bus</td>\n",
       "      <td>manuell</td>\n",
       "      <td>diesel</td>\n",
       "    </tr>\n",
       "    <tr>\n",
       "      <th>172120</th>\n",
       "      <td>suche_maserati_3200_gt_Zustand_unwichtig_laufe...</td>\n",
       "      <td>privat</td>\n",
       "      <td>Angebot</td>\n",
       "      <td>10000000</td>\n",
       "      <td>coupe</td>\n",
       "      <td>manuell</td>\n",
       "      <td>benzin</td>\n",
       "    </tr>\n",
       "    <tr>\n",
       "      <th>14663</th>\n",
       "      <td>Tausch_moeglich_Polo_vw_n9</td>\n",
       "      <td>privat</td>\n",
       "      <td>Angebot</td>\n",
       "      <td>11111111</td>\n",
       "      <td>coupe</td>\n",
       "      <td>manuell</td>\n",
       "      <td>benzin</td>\n",
       "    </tr>\n",
       "    <tr>\n",
       "      <th>127880</th>\n",
       "      <td>Golf_4_laesst_sich_nicht_oeffnen</td>\n",
       "      <td>privat</td>\n",
       "      <td>Angebot</td>\n",
       "      <td>11111111</td>\n",
       "      <td>limousine</td>\n",
       "      <td>manuell</td>\n",
       "      <td>benzin</td>\n",
       "    </tr>\n",
       "    <tr>\n",
       "      <th>210953</th>\n",
       "      <td>Escort_MK_1_Hundeknochen_zum_umbauen_auf_RS_2000</td>\n",
       "      <td>privat</td>\n",
       "      <td>Angebot</td>\n",
       "      <td>11111111</td>\n",
       "      <td>limousine</td>\n",
       "      <td>manuell</td>\n",
       "      <td>benzin</td>\n",
       "    </tr>\n",
       "    <tr>\n",
       "      <th>311220</th>\n",
       "      <td>Wer_will_mich_kleinen_polo_6n1</td>\n",
       "      <td>privat</td>\n",
       "      <td>Angebot</td>\n",
       "      <td>12345678</td>\n",
       "      <td>kleinwagen</td>\n",
       "      <td>manuell</td>\n",
       "      <td>benzin</td>\n",
       "    </tr>\n",
       "    <tr>\n",
       "      <th>242143</th>\n",
       "      <td>Opel_Vectra_B_1_6i_16V_Facelift_Tuning_Showcar...</td>\n",
       "      <td>privat</td>\n",
       "      <td>Angebot</td>\n",
       "      <td>12345678</td>\n",
       "      <td>limousine</td>\n",
       "      <td>manuell</td>\n",
       "      <td>benzin</td>\n",
       "    </tr>\n",
       "    <tr>\n",
       "      <th>288131</th>\n",
       "      <td>tausche_o_verkaufe</td>\n",
       "      <td>privat</td>\n",
       "      <td>Angebot</td>\n",
       "      <td>12345678</td>\n",
       "      <td>kombi</td>\n",
       "      <td>manuell</td>\n",
       "      <td>benzin</td>\n",
       "    </tr>\n",
       "    <tr>\n",
       "      <th>280233</th>\n",
       "      <td>Mercedes_Benz_CLK_Coupe_280_7G_TRONIC_Sport_Av...</td>\n",
       "      <td>privat</td>\n",
       "      <td>Angebot</td>\n",
       "      <td>14000500</td>\n",
       "      <td>coupe</td>\n",
       "      <td>automatik</td>\n",
       "      <td>benzin</td>\n",
       "    </tr>\n",
       "    <tr>\n",
       "      <th>87799</th>\n",
       "      <td>Leasinguebernahme</td>\n",
       "      <td>privat</td>\n",
       "      <td>Angebot</td>\n",
       "      <td>27322222</td>\n",
       "      <td>limousine</td>\n",
       "      <td>manuell</td>\n",
       "      <td>diesel</td>\n",
       "    </tr>\n",
       "    <tr>\n",
       "      <th>183657</th>\n",
       "      <td>BMW_e60_nur_Tausch_prins_gasanlage_20_Zoll!_No...</td>\n",
       "      <td>privat</td>\n",
       "      <td>Angebot</td>\n",
       "      <td>32545461</td>\n",
       "      <td>limousine</td>\n",
       "      <td>automatik</td>\n",
       "      <td>lpg</td>\n",
       "    </tr>\n",
       "    <tr>\n",
       "      <th>252276</th>\n",
       "      <td>Audi_A6_2.7_TDI_quattro_S_Line_Luftfederung_Bose</td>\n",
       "      <td>privat</td>\n",
       "      <td>Angebot</td>\n",
       "      <td>99000000</td>\n",
       "      <td>limousine</td>\n",
       "      <td>automatik</td>\n",
       "      <td>diesel</td>\n",
       "    </tr>\n",
       "    <tr>\n",
       "      <th>139163</th>\n",
       "      <td>Mercedes_Benz_CLS_350_CDI_7G_TRONIC</td>\n",
       "      <td>privat</td>\n",
       "      <td>Angebot</td>\n",
       "      <td>99999999</td>\n",
       "      <td>coupe</td>\n",
       "      <td>automatik</td>\n",
       "      <td>diesel</td>\n",
       "    </tr>\n",
       "    <tr>\n",
       "      <th>77520</th>\n",
       "      <td>Tausch_gegen_gleichwertiges</td>\n",
       "      <td>privat</td>\n",
       "      <td>Angebot</td>\n",
       "      <td>99999999</td>\n",
       "      <td>limousine</td>\n",
       "      <td>automatik</td>\n",
       "      <td>benzin</td>\n",
       "    </tr>\n",
       "    <tr>\n",
       "      <th>190033</th>\n",
       "      <td>Oldtimer_Goggo_Transporter</td>\n",
       "      <td>privat</td>\n",
       "      <td>Angebot</td>\n",
       "      <td>99999999</td>\n",
       "      <td>kleinwagen</td>\n",
       "      <td>manuell</td>\n",
       "      <td>benzin</td>\n",
       "    </tr>\n",
       "    <tr>\n",
       "      <th>280355</th>\n",
       "      <td>Kaufe_VW_Golf_1_auch_ohne_T�V_________________...</td>\n",
       "      <td>privat</td>\n",
       "      <td>Angebot</td>\n",
       "      <td>99999999</td>\n",
       "      <td>andere</td>\n",
       "      <td>manuell</td>\n",
       "      <td>benzin</td>\n",
       "    </tr>\n",
       "    <tr>\n",
       "      <th>127931</th>\n",
       "      <td>audi_a6_c5_avant</td>\n",
       "      <td>privat</td>\n",
       "      <td>Angebot</td>\n",
       "      <td>99999999</td>\n",
       "      <td>kombi</td>\n",
       "      <td>manuell</td>\n",
       "      <td>benzin</td>\n",
       "    </tr>\n",
       "    <tr>\n",
       "      <th>130080</th>\n",
       "      <td>Kaufe_AUTOS_Zum_basteln</td>\n",
       "      <td>privat</td>\n",
       "      <td>Angebot</td>\n",
       "      <td>2147483647</td>\n",
       "      <td>andere</td>\n",
       "      <td>manuell</td>\n",
       "      <td>andere</td>\n",
       "    </tr>\n",
       "  </tbody>\n",
       "</table>\n",
       "</div>"
      ],
      "text/plain": [
       "                                                     name  seller offerType  \\\n",
       "359164                     Tausche_BMW_E46_Touring_Diesel  privat   Angebot   \n",
       "363730                     Vw_Passat_35i_1.8_schlachtfest  privat   Angebot   \n",
       "54295                        Mazda_5_2.0_CD_DPF_Exclusive  privat   Angebot   \n",
       "172120  suche_maserati_3200_gt_Zustand_unwichtig_laufe...  privat   Angebot   \n",
       "14663                          Tausch_moeglich_Polo_vw_n9  privat   Angebot   \n",
       "127880                   Golf_4_laesst_sich_nicht_oeffnen  privat   Angebot   \n",
       "210953   Escort_MK_1_Hundeknochen_zum_umbauen_auf_RS_2000  privat   Angebot   \n",
       "311220                     Wer_will_mich_kleinen_polo_6n1  privat   Angebot   \n",
       "242143  Opel_Vectra_B_1_6i_16V_Facelift_Tuning_Showcar...  privat   Angebot   \n",
       "288131                                 tausche_o_verkaufe  privat   Angebot   \n",
       "280233  Mercedes_Benz_CLK_Coupe_280_7G_TRONIC_Sport_Av...  privat   Angebot   \n",
       "87799                                   Leasinguebernahme  privat   Angebot   \n",
       "183657  BMW_e60_nur_Tausch_prins_gasanlage_20_Zoll!_No...  privat   Angebot   \n",
       "252276   Audi_A6_2.7_TDI_quattro_S_Line_Luftfederung_Bose  privat   Angebot   \n",
       "139163                Mercedes_Benz_CLS_350_CDI_7G_TRONIC  privat   Angebot   \n",
       "77520                         Tausch_gegen_gleichwertiges  privat   Angebot   \n",
       "190033                         Oldtimer_Goggo_Transporter  privat   Angebot   \n",
       "280355  Kaufe_VW_Golf_1_auch_ohne_T�V_________________...  privat   Angebot   \n",
       "127931                                   audi_a6_c5_avant  privat   Angebot   \n",
       "130080                            Kaufe_AUTOS_Zum_basteln  privat   Angebot   \n",
       "\n",
       "             price vehicleType    gearbox fuelType  \n",
       "359164    10000000       kombi    manuell   diesel  \n",
       "363730    10000000       kombi    manuell   benzin  \n",
       "54295     10000000         bus    manuell   diesel  \n",
       "172120    10000000       coupe    manuell   benzin  \n",
       "14663     11111111       coupe    manuell   benzin  \n",
       "127880    11111111   limousine    manuell   benzin  \n",
       "210953    11111111   limousine    manuell   benzin  \n",
       "311220    12345678  kleinwagen    manuell   benzin  \n",
       "242143    12345678   limousine    manuell   benzin  \n",
       "288131    12345678       kombi    manuell   benzin  \n",
       "280233    14000500       coupe  automatik   benzin  \n",
       "87799     27322222   limousine    manuell   diesel  \n",
       "183657    32545461   limousine  automatik      lpg  \n",
       "252276    99000000   limousine  automatik   diesel  \n",
       "139163    99999999       coupe  automatik   diesel  \n",
       "77520     99999999   limousine  automatik   benzin  \n",
       "190033    99999999  kleinwagen    manuell   benzin  \n",
       "280355    99999999      andere    manuell   benzin  \n",
       "127931    99999999       kombi    manuell   benzin  \n",
       "130080  2147483647      andere    manuell   andere  "
      ]
     },
     "execution_count": 103,
     "metadata": {},
     "output_type": "execute_result"
    }
   ],
   "source": [
    "cars3.sort_values(by=\"price\").tail(20)\n"
   ]
  },
  {
   "cell_type": "code",
   "execution_count": 115,
   "id": "caa3d7f4",
   "metadata": {},
   "outputs": [],
   "source": [
    "from matplotlib import pyplot as ppl\n",
    "%matplotlib inline"
   ]
  },
  {
   "cell_type": "code",
   "execution_count": 99,
   "id": "44ee0428",
   "metadata": {},
   "outputs": [],
   "source": [
    "wykres=ppl.plot(cars3.price)"
   ]
  },
  {
   "cell_type": "code",
   "execution_count": 100,
   "id": "2d45c497",
   "metadata": {},
   "outputs": [
    {
     "data": {
      "text/plain": [
       "[<matplotlib.lines.Line2D at 0xd02291d460>]"
      ]
     },
     "execution_count": 100,
     "metadata": {},
     "output_type": "execute_result"
    }
   ],
   "source": [
    "wykres"
   ]
  },
  {
   "cell_type": "code",
   "execution_count": 111,
   "id": "74516208",
   "metadata": {},
   "outputs": [
    {
     "data": {
      "text/plain": [
       "Index(['benzin', 'diesel', 'lpg', 'cng', 'hybrid', 'andere', 'elektro'], dtype='object')"
      ]
     },
     "execution_count": 111,
     "metadata": {},
     "output_type": "execute_result"
    }
   ],
   "source": [
    "cars3.fuelType.value_counts().index"
   ]
  },
  {
   "cell_type": "code",
   "execution_count": 117,
   "id": "887ee2b7",
   "metadata": {},
   "outputs": [
    {
     "data": {
      "text/plain": [
       "<BarContainer object of 7 artists>"
      ]
     },
     "execution_count": 117,
     "metadata": {},
     "output_type": "execute_result"
    },
    {
     "data": {
      "image/png": "[encoded data removed]",
      "text/plain": [
       "<Figure size 432x288 with 1 Axes>"
      ]
     },
     "metadata": {
      "needs_background": "light"
     },
     "output_type": "display_data"
    }
   ],
   "source": [
    "ppl.bar(cars3.fuelType.value_counts().index, cars3.fuelType.value_counts().values)"
   ]
  },
  {
   "cell_type": "code",
   "execution_count": 120,
   "id": "47f7b210",
   "metadata": {},
   "outputs": [],
   "source": [
    "typ_cena=cars3.groupby(by=\"vehicleType\").price.mean()"
   ]
  },
  {
   "cell_type": "code",
   "execution_count": 122,
   "id": "ad21ef4e",
   "metadata": {},
   "outputs": [
    {
     "data": {
      "text/plain": [
       "<BarContainer object of 8 artists>"
      ]
     },
     "execution_count": 122,
     "metadata": {},
     "output_type": "execute_result"
    },
    {
     "data": {
      "image/png": "[encoded data removed]",
      "text/plain": [
       "<Figure size 432x288 with 1 Axes>"
      ]
     },
     "metadata": {
      "needs_background": "light"
     },
     "output_type": "display_data"
    }
   ],
   "source": [
    "ppl.bar(typ_cena.index, typ_cena.values)"
   ]
  },
  {
   "cell_type": "code",
   "execution_count": 123,
   "id": "758de0de",
   "metadata": {},
   "outputs": [],
   "source": [
    "filter_nadwozie=cars3.vehicleType!='andere'"
   ]
  },
  {
   "cell_type": "code",
   "execution_count": 136,
   "id": "0357e0fc",
   "metadata": {},
   "outputs": [],
   "source": [
    "typ_cena=cars3[filter_nadwozie].groupby(by=\"vehicleType\").price.sum().sort_values(ascending=False)"
   ]
  },
  {
   "cell_type": "code",
   "execution_count": 137,
   "id": "6ce36ab4",
   "metadata": {},
   "outputs": [
    {
     "data": {
      "text/plain": [
       "<BarContainer object of 8 artists>"
      ]
     },
     "execution_count": 137,
     "metadata": {},
     "output_type": "execute_result"
    },
    {
     "data": {
      "image/png": "[encoded data removed]",
      "text/plain": [
       "<Figure size 432x288 with 1 Axes>"
      ]
     },
     "metadata": {
      "needs_background": "light"
     },
     "output_type": "display_data"
    }
   ],
   "source": [
    "ppl.bar(typ_cena.index, typ_cena.values)"
   ]
  },
  {
   "cell_type": "code",
   "execution_count": 135,
   "id": "e42dc231",
   "metadata": {},
   "outputs": [
    {
     "data": {
      "text/plain": [
       "<BarContainer object of 8 artists>"
      ]
     },
     "execution_count": 135,
     "metadata": {},
     "output_type": "execute_result"
    },
    {
     "data": {
      "image/png": "[encoded data removed]",
      "text/plain": [
       "<Figure size 432x288 with 1 Axes>"
      ]
     },
     "metadata": {
      "needs_background": "light"
     },
     "output_type": "display_data"
    }
   ],
   "source": [
    "ppl.bar(cars3.vehicleType.value_counts().index, cars3.vehicleType.value_counts().values )"
   ]
  },
  {
   "cell_type": "code",
   "execution_count": null,
   "id": "ac49640c",
   "metadata": {},
   "outputs": [],
   "source": []
  }
 ],
 "metadata": {
  "kernelspec": {
   "display_name": "Python 3",
   "language": "python",
   "name": "python3"
  },
  "language_info": {
   "codemirror_mode": {
    "name": "ipython",
    "version": 3
   },
   "file_extension": ".py",
   "mimetype": "text/x-python",
   "name": "python",
   "nbconvert_exporter": "python",
   "pygments_lexer": "ipython3",
   "version": "3.8.8"
  }
 },
 "nbformat": 4,
 "nbformat_minor": 5
}
