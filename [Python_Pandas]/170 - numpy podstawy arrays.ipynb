{
 "cells": [
  {
   "cell_type": "markdown",
   "id": "94ec5112",
   "metadata": {},
   "source": [
    "Learning numpy library"
   ]
  },
  {
   "cell_type": "code",
   "execution_count": 1,
   "id": "35ad5a4c",
   "metadata": {},
   "outputs": [],
   "source": [
    "import numpy as np"
   ]
  },
  {
   "cell_type": "markdown",
   "id": "8bcf62c3",
   "metadata": {},
   "source": [
    "Skróty klawiszowe:\n",
    "-a dodanie komórki nad\n",
    "-b dodanie komórki pod\n",
    "-m tryb zapisów\n",
    "-y tryb kodu\n",
    "- d d usuwanie\n",
    "- jeżeli wpiszemy ?obiekt to dostaniemy szczegółowe informacje"
   ]
  },
  {
   "cell_type": "code",
   "execution_count": 26,
   "id": "bfa20269",
   "metadata": {},
   "outputs": [],
   "source": [
    "#Wypełnianie tablicy zerami\n",
    "a=np.zeros((3,1),dtype='int8')"
   ]
  },
  {
   "cell_type": "code",
   "execution_count": 27,
   "id": "2f87161a",
   "metadata": {},
   "outputs": [
    {
     "data": {
      "text/plain": [
       "array([[0],\n",
       "       [0],\n",
       "       [0]], dtype=int8)"
      ]
     },
     "execution_count": 27,
     "metadata": {},
     "output_type": "execute_result"
    }
   ],
   "source": [
    "a"
   ]
  },
  {
   "cell_type": "code",
   "execution_count": 23,
   "id": "ee035350",
   "metadata": {},
   "outputs": [],
   "source": [
    "#zmiana kształtu\n",
    "a.shape=(1,3)"
   ]
  },
  {
   "cell_type": "code",
   "execution_count": 24,
   "id": "4f294751",
   "metadata": {},
   "outputs": [
    {
     "data": {
      "text/plain": [
       "(1, 3)"
      ]
     },
     "execution_count": 24,
     "metadata": {},
     "output_type": "execute_result"
    }
   ],
   "source": [
    "a.shape"
   ]
  },
  {
   "cell_type": "code",
   "execution_count": 16,
   "id": "f9251c75",
   "metadata": {},
   "outputs": [],
   "source": [
    "# funkcja do tworzenia tablicy (od, do, ile elementów)\n",
    "z=np.linspace(2,111,5)"
   ]
  },
  {
   "cell_type": "code",
   "execution_count": 17,
   "id": "aca061d8",
   "metadata": {},
   "outputs": [
    {
     "data": {
      "text/plain": [
       "array([  2.  ,  29.25,  56.5 ,  83.75, 111.  ])"
      ]
     },
     "execution_count": 17,
     "metadata": {},
     "output_type": "execute_result"
    }
   ],
   "source": [
    "z"
   ]
  },
  {
   "cell_type": "code",
   "execution_count": 28,
   "id": "e8171b92",
   "metadata": {},
   "outputs": [],
   "source": [
    "lista=[10,20,30,40,50]"
   ]
  },
  {
   "cell_type": "code",
   "execution_count": 29,
   "id": "eb00e66a",
   "metadata": {},
   "outputs": [],
   "source": [
    "listaarr=np.array((lista, lista))"
   ]
  },
  {
   "cell_type": "code",
   "execution_count": 30,
   "id": "f9f87133",
   "metadata": {},
   "outputs": [
    {
     "data": {
      "text/plain": [
       "array([[10, 20, 30, 40, 50],\n",
       "       [10, 20, 30, 40, 50]])"
      ]
     },
     "execution_count": 30,
     "metadata": {},
     "output_type": "execute_result"
    }
   ],
   "source": [
    "listaarr"
   ]
  },
  {
   "cell_type": "code",
   "execution_count": 31,
   "id": "8bc6f29d",
   "metadata": {},
   "outputs": [],
   "source": [
    "?listaarr"
   ]
  },
  {
   "cell_type": "code",
   "execution_count": 33,
   "id": "98771232",
   "metadata": {},
   "outputs": [],
   "source": [
    "el3=np.array((1,2,3))"
   ]
  },
  {
   "cell_type": "code",
   "execution_count": 34,
   "id": "3401e582",
   "metadata": {},
   "outputs": [
    {
     "data": {
      "text/plain": [
       "array([1, 2, 3])"
      ]
     },
     "execution_count": 34,
     "metadata": {},
     "output_type": "execute_result"
    }
   ],
   "source": [
    "el3"
   ]
  },
  {
   "cell_type": "code",
   "execution_count": 35,
   "id": "78c3d65a",
   "metadata": {},
   "outputs": [],
   "source": [
    "el5=np.array((1,2,3,4,5))"
   ]
  },
  {
   "cell_type": "code",
   "execution_count": 36,
   "id": "6963d518",
   "metadata": {},
   "outputs": [
    {
     "ename": "NameError",
     "evalue": "name 'al3' is not defined",
     "output_type": "error",
     "traceback": [
      "\u001b[1;31m---------------------------------------------------------------------------\u001b[0m",
      "\u001b[1;31mNameError\u001b[0m                                 Traceback (most recent call last)",
      "\u001b[1;32m<ipython-input-36-bd9721d45d3d>\u001b[0m in \u001b[0;36m<module>\u001b[1;34m\u001b[0m\n\u001b[1;32m----> 1\u001b[1;33m \u001b[0mal3\u001b[0m\u001b[1;33m+\u001b[0m\u001b[0mel5\u001b[0m\u001b[1;33m\u001b[0m\u001b[1;33m\u001b[0m\u001b[0m\n\u001b[0m",
      "\u001b[1;31mNameError\u001b[0m: name 'al3' is not defined"
     ]
    }
   ],
   "source": [
    "al3+el5"
   ]
  },
  {
   "cell_type": "code",
   "execution_count": 37,
   "id": "2e60327b",
   "metadata": {},
   "outputs": [
    {
     "ename": "ValueError",
     "evalue": "operands could not be broadcast together with shapes (3,) (5,) ",
     "output_type": "error",
     "traceback": [
      "\u001b[1;31m---------------------------------------------------------------------------\u001b[0m",
      "\u001b[1;31mValueError\u001b[0m                                Traceback (most recent call last)",
      "\u001b[1;32m<ipython-input-37-f783cf01046b>\u001b[0m in \u001b[0;36m<module>\u001b[1;34m\u001b[0m\n\u001b[1;32m----> 1\u001b[1;33m \u001b[0mel3\u001b[0m\u001b[1;33m+\u001b[0m\u001b[0mel5\u001b[0m\u001b[1;33m\u001b[0m\u001b[1;33m\u001b[0m\u001b[0m\n\u001b[0m",
      "\u001b[1;31mValueError\u001b[0m: operands could not be broadcast together with shapes (3,) (5,) "
     ]
    }
   ],
   "source": [
    "el3+el5"
   ]
  },
  {
   "cell_type": "code",
   "execution_count": 38,
   "id": "1c78b43d",
   "metadata": {},
   "outputs": [
    {
     "data": {
      "text/plain": [
       "(3,)"
      ]
     },
     "execution_count": 38,
     "metadata": {},
     "output_type": "execute_result"
    }
   ],
   "source": [
    "el3.shape"
   ]
  },
  {
   "cell_type": "code",
   "execution_count": 43,
   "id": "640fcb00",
   "metadata": {},
   "outputs": [],
   "source": [
    "el3=np.append(el3,(9,8))"
   ]
  },
  {
   "cell_type": "code",
   "execution_count": 44,
   "id": "fa7f1222",
   "metadata": {},
   "outputs": [
    {
     "data": {
      "text/plain": [
       "array([1, 2, 3, 9, 8])"
      ]
     },
     "execution_count": 44,
     "metadata": {},
     "output_type": "execute_result"
    }
   ],
   "source": [
    "el3"
   ]
  },
  {
   "cell_type": "code",
   "execution_count": 45,
   "id": "51e3c289",
   "metadata": {},
   "outputs": [
    {
     "data": {
      "text/plain": [
       "array([ 2,  4,  6, 13, 13])"
      ]
     },
     "execution_count": 45,
     "metadata": {},
     "output_type": "execute_result"
    }
   ],
   "source": [
    "el3+el5"
   ]
  },
  {
   "cell_type": "code",
   "execution_count": 46,
   "id": "c6834ca5",
   "metadata": {},
   "outputs": [
    {
     "ename": "TypeError",
     "evalue": "'tuple' object is not callable",
     "output_type": "error",
     "traceback": [
      "\u001b[1;31m---------------------------------------------------------------------------\u001b[0m",
      "\u001b[1;31mTypeError\u001b[0m                                 Traceback (most recent call last)",
      "\u001b[1;32m<ipython-input-46-82f5586067f0>\u001b[0m in \u001b[0;36m<module>\u001b[1;34m\u001b[0m\n\u001b[1;32m----> 1\u001b[1;33m \u001b[0mel3\u001b[0m\u001b[1;33m.\u001b[0m\u001b[0mshape\u001b[0m\u001b[1;33m(\u001b[0m\u001b[1;36m5\u001b[0m\u001b[1;33m,\u001b[0m\u001b[1;36m1\u001b[0m\u001b[1;33m)\u001b[0m\u001b[1;33m\u001b[0m\u001b[1;33m\u001b[0m\u001b[0m\n\u001b[0m",
      "\u001b[1;31mTypeError\u001b[0m: 'tuple' object is not callable"
     ]
    }
   ],
   "source": [
    "el3.shape(5,1)"
   ]
  },
  {
   "cell_type": "code",
   "execution_count": 47,
   "id": "4507b561",
   "metadata": {},
   "outputs": [
    {
     "ename": "TypeError",
     "evalue": "'tuple' object is not callable",
     "output_type": "error",
     "traceback": [
      "\u001b[1;31m---------------------------------------------------------------------------\u001b[0m",
      "\u001b[1;31mTypeError\u001b[0m                                 Traceback (most recent call last)",
      "\u001b[1;32m<ipython-input-47-c0870c195659>\u001b[0m in \u001b[0;36m<module>\u001b[1;34m\u001b[0m\n\u001b[1;32m----> 1\u001b[1;33m \u001b[0mel3\u001b[0m\u001b[1;33m.\u001b[0m\u001b[0mshape\u001b[0m\u001b[1;33m(\u001b[0m\u001b[1;33m(\u001b[0m\u001b[1;36m5\u001b[0m\u001b[1;33m,\u001b[0m\u001b[1;36m1\u001b[0m\u001b[1;33m)\u001b[0m\u001b[1;33m)\u001b[0m\u001b[1;33m\u001b[0m\u001b[1;33m\u001b[0m\u001b[0m\n\u001b[0m",
      "\u001b[1;31mTypeError\u001b[0m: 'tuple' object is not callable"
     ]
    }
   ],
   "source": [
    "el3.shape((5,1))"
   ]
  },
  {
   "cell_type": "code",
   "execution_count": 48,
   "id": "341d800e",
   "metadata": {},
   "outputs": [],
   "source": [
    "el3.shape=(5,1)"
   ]
  },
  {
   "cell_type": "code",
   "execution_count": 49,
   "id": "4383e2cd",
   "metadata": {},
   "outputs": [
    {
     "data": {
      "text/plain": [
       "array([[1],\n",
       "       [2],\n",
       "       [3],\n",
       "       [9],\n",
       "       [8]])"
      ]
     },
     "execution_count": 49,
     "metadata": {},
     "output_type": "execute_result"
    }
   ],
   "source": [
    "el3"
   ]
  },
  {
   "cell_type": "code",
   "execution_count": 50,
   "id": "7d233d84",
   "metadata": {},
   "outputs": [],
   "source": [
    "import pandas as pd"
   ]
  },
  {
   "cell_type": "code",
   "execution_count": 55,
   "id": "48ddcd5b",
   "metadata": {},
   "outputs": [],
   "source": [
    "df=pd.DataFrame(el3)"
   ]
  },
  {
   "cell_type": "code",
   "execution_count": 56,
   "id": "75060ce4",
   "metadata": {},
   "outputs": [
    {
     "data": {
      "text/html": [
       "<div>\n",
       "<style scoped>\n",
       "    .dataframe tbody tr th:only-of-type {\n",
       "        vertical-align: middle;\n",
       "    }\n",
       "\n",
       "    .dataframe tbody tr th {\n",
       "        vertical-align: top;\n",
       "    }\n",
       "\n",
       "    .dataframe thead th {\n",
       "        text-align: right;\n",
       "    }\n",
       "</style>\n",
       "<table border=\"1\" class=\"dataframe\">\n",
       "  <thead>\n",
       "    <tr style=\"text-align: right;\">\n",
       "      <th></th>\n",
       "      <th>0</th>\n",
       "    </tr>\n",
       "  </thead>\n",
       "  <tbody>\n",
       "    <tr>\n",
       "      <th>0</th>\n",
       "      <td>1</td>\n",
       "    </tr>\n",
       "    <tr>\n",
       "      <th>1</th>\n",
       "      <td>2</td>\n",
       "    </tr>\n",
       "    <tr>\n",
       "      <th>2</th>\n",
       "      <td>3</td>\n",
       "    </tr>\n",
       "    <tr>\n",
       "      <th>3</th>\n",
       "      <td>9</td>\n",
       "    </tr>\n",
       "    <tr>\n",
       "      <th>4</th>\n",
       "      <td>8</td>\n",
       "    </tr>\n",
       "  </tbody>\n",
       "</table>\n",
       "</div>"
      ],
      "text/plain": [
       "   0\n",
       "0  1\n",
       "1  2\n",
       "2  3\n",
       "3  9\n",
       "4  8"
      ]
     },
     "execution_count": 56,
     "metadata": {},
     "output_type": "execute_result"
    }
   ],
   "source": [
    "df"
   ]
  },
  {
   "cell_type": "code",
   "execution_count": 60,
   "id": "701a49e9",
   "metadata": {},
   "outputs": [
    {
     "ename": "AssertionError",
     "evalue": "",
     "output_type": "error",
     "traceback": [
      "\u001b[1;31m---------------------------------------------------------------------------\u001b[0m",
      "\u001b[1;31mAssertionError\u001b[0m                            Traceback (most recent call last)",
      "\u001b[1;32m<ipython-input-60-a871fdc9ebee>\u001b[0m in \u001b[0;36m<module>\u001b[1;34m\u001b[0m\n\u001b[1;32m----> 1\u001b[1;33m \u001b[1;32massert\u001b[0m \u001b[1;32mFalse\u001b[0m\u001b[1;33m\u001b[0m\u001b[1;33m\u001b[0m\u001b[0m\n\u001b[0m",
      "\u001b[1;31mAssertionError\u001b[0m: "
     ]
    }
   ],
   "source": [
    "assert False"
   ]
  },
  {
   "cell_type": "code",
   "execution_count": null,
   "id": "7c20e8f6",
   "metadata": {},
   "outputs": [],
   "source": []
  }
 ],
 "metadata": {
  "kernelspec": {
   "display_name": "Python 3",
   "language": "python",
   "name": "python3"
  },
  "language_info": {
   "codemirror_mode": {
    "name": "ipython",
    "version": 3
   },
   "file_extension": ".py",
   "mimetype": "text/x-python",
   "name": "python",
   "nbconvert_exporter": "python",
   "pygments_lexer": "ipython3",
   "version": "3.8.8"
  }
 },
 "nbformat": 4,
 "nbformat_minor": 5
}
