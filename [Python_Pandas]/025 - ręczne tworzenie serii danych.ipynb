{
 "cells": [
  {
   "cell_type": "code",
   "execution_count": 1,
   "id": "1cfb41f6",
   "metadata": {},
   "outputs": [],
   "source": [
    "import pandas as pd\n",
    "import numpy as np\n",
    "import matplotlib.pyplot as plt\n",
    "import math"
   ]
  },
  {
   "cell_type": "code",
   "execution_count": 2,
   "id": "aeb27852",
   "metadata": {},
   "outputs": [
    {
     "data": {
      "text/plain": [
       "['Gostyn', 'Srem', 'Poznan', 'Wroclaw']"
      ]
     },
     "execution_count": 2,
     "metadata": {},
     "output_type": "execute_result"
    }
   ],
   "source": [
    "cities=[\"Gostyn\",\"Srem\",\"Poznan\",\"Wroclaw\"]\n",
    "cities"
   ]
  },
  {
   "cell_type": "markdown",
   "id": "63a2509f",
   "metadata": {},
   "source": [
    "# Series tworzone z listy, inteksy to liczby od 0"
   ]
  },
  {
   "cell_type": "code",
   "execution_count": 3,
   "id": "ec234768",
   "metadata": {},
   "outputs": [
    {
     "data": {
      "text/plain": [
       "0     Gostyn\n",
       "1       Srem\n",
       "2     Poznan\n",
       "3    Wroclaw\n",
       "dtype: object"
      ]
     },
     "execution_count": 3,
     "metadata": {},
     "output_type": "execute_result"
    }
   ],
   "source": [
    "pd.Series(cities)"
   ]
  },
  {
   "cell_type": "markdown",
   "id": "c90db99c",
   "metadata": {},
   "source": [
    "# Series ze słownika"
   ]
  },
  {
   "cell_type": "code",
   "execution_count": 6,
   "id": "a2bab32f",
   "metadata": {},
   "outputs": [],
   "source": [
    "filmy={\"FIlm\":1995,\"film2\":1996}\n",
    "       \n"
   ]
  },
  {
   "cell_type": "code",
   "execution_count": 7,
   "id": "7e5e367f",
   "metadata": {},
   "outputs": [
    {
     "data": {
      "text/plain": [
       "FIlm     1995\n",
       "film2    1996\n",
       "dtype: int64"
      ]
     },
     "execution_count": 7,
     "metadata": {},
     "output_type": "execute_result"
    }
   ],
   "source": [
    "pd.Series(filmy)"
   ]
  },
  {
   "cell_type": "code",
   "execution_count": null,
   "id": "d3d6e92a",
   "metadata": {},
   "outputs": [],
   "source": []
  }
 ],
 "metadata": {
  "kernelspec": {
   "display_name": "Python 3",
   "language": "python",
   "name": "python3"
  },
  "language_info": {
   "codemirror_mode": {
    "name": "ipython",
    "version": 3
   },
   "file_extension": ".py",
   "mimetype": "text/x-python",
   "name": "python",
   "nbconvert_exporter": "python",
   "pygments_lexer": "ipython3",
   "version": "3.8.8"
  }
 },
 "nbformat": 4,
 "nbformat_minor": 5
}
