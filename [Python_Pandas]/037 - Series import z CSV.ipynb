{
 "cells": [
  {
   "cell_type": "code",
   "execution_count": 1,
   "id": "bc247286",
   "metadata": {},
   "outputs": [],
   "source": [
    "import pandas as pd\n",
    "import numpy as np\n",
    "import matplotlib.pyplot as plt\n",
    "import math"
   ]
  },
  {
   "cell_type": "markdown",
   "id": "82f6572d",
   "metadata": {},
   "source": [
    "### Parametr squeeze=True powoduje stworzenie serii zamiast frame"
   ]
  },
  {
   "cell_type": "code",
   "execution_count": 9,
   "id": "2d34de04",
   "metadata": {},
   "outputs": [],
   "source": [
    "education=pd.read_csv(r'D:\\temp\\StackOverflowDeveloperSurvey.csv',usecols=[\"FormalEducation\"],squeeze=True)"
   ]
  },
  {
   "cell_type": "code",
   "execution_count": 10,
   "id": "69bdcda9",
   "metadata": {},
   "outputs": [
    {
     "data": {
      "text/plain": [
       "0                                     Secondary school\n",
       "1    Some college/university study without earning ...\n",
       "2                                    Bachelor's degree\n",
       "3                                      Doctoral degree\n",
       "4                                      Master's degree\n",
       "Name: FormalEducation, dtype: object"
      ]
     },
     "execution_count": 10,
     "metadata": {},
     "output_type": "execute_result"
    }
   ],
   "source": [
    "education.head()"
   ]
  },
  {
   "cell_type": "code",
   "execution_count": 11,
   "id": "234222a2",
   "metadata": {},
   "outputs": [
    {
     "data": {
      "text/plain": [
       "pandas.core.series.Series"
      ]
     },
     "execution_count": 11,
     "metadata": {},
     "output_type": "execute_result"
    }
   ],
   "source": [
    "type(education)"
   ]
  },
  {
   "cell_type": "code",
   "execution_count": 12,
   "id": "5dfe59c1",
   "metadata": {},
   "outputs": [
    {
     "data": {
      "text/plain": [
       "51382                                      Master's degree\n",
       "51383               I never completed any formal education\n",
       "51384                                    Bachelor's degree\n",
       "51385                                      Master's degree\n",
       "51386    Some college/university study without earning ...\n",
       "51387                                    Bachelor's degree\n",
       "51388                                      Master's degree\n",
       "51389    Some college/university study without earning ...\n",
       "51390                                    Bachelor's degree\n",
       "51391                                    Bachelor's degree\n",
       "Name: FormalEducation, dtype: object"
      ]
     },
     "execution_count": 12,
     "metadata": {},
     "output_type": "execute_result"
    }
   ],
   "source": [
    "education.tail(10)"
   ]
  },
  {
   "cell_type": "code",
   "execution_count": 14,
   "id": "2692d353",
   "metadata": {},
   "outputs": [
    {
     "data": {
      "text/plain": [
       "pandas.core.frame.DataFrame"
      ]
     },
     "execution_count": 14,
     "metadata": {},
     "output_type": "execute_result"
    }
   ],
   "source": [
    "alldata=pd.read_csv(r'D:\\temp\\StackOverflowDeveloperSurvey.csv')\n",
    "type(alldata)"
   ]
  },
  {
   "cell_type": "code",
   "execution_count": 15,
   "id": "03bab6fb",
   "metadata": {},
   "outputs": [],
   "source": [
    "country=pd.Series(alldata[\"Country\"])"
   ]
  },
  {
   "cell_type": "code",
   "execution_count": 16,
   "id": "a7f0dadb",
   "metadata": {},
   "outputs": [
    {
     "data": {
      "text/plain": [
       "0         United States\n",
       "1        United Kingdom\n",
       "2        United Kingdom\n",
       "3         United States\n",
       "4           Switzerland\n",
       "              ...      \n",
       "51387     United States\n",
       "51388         Venezuela\n",
       "51389            Canada\n",
       "51390     United States\n",
       "51391           Ireland\n",
       "Name: Country, Length: 51392, dtype: object"
      ]
     },
     "execution_count": 16,
     "metadata": {},
     "output_type": "execute_result"
    }
   ],
   "source": [
    "country"
   ]
  },
  {
   "cell_type": "code",
   "execution_count": 17,
   "id": "42c33872",
   "metadata": {},
   "outputs": [
    {
     "data": {
      "text/plain": [
       "0     United States\n",
       "1    United Kingdom\n",
       "2    United Kingdom\n",
       "3     United States\n",
       "4       Switzerland\n",
       "5       New Zealand\n",
       "6     United States\n",
       "7            Poland\n",
       "8          Colombia\n",
       "9            France\n",
       "Name: Country, dtype: object"
      ]
     },
     "execution_count": 17,
     "metadata": {},
     "output_type": "execute_result"
    }
   ],
   "source": [
    "country.head(10)"
   ]
  },
  {
   "cell_type": "code",
   "execution_count": 18,
   "id": "d502a4d9",
   "metadata": {},
   "outputs": [],
   "source": [
    "filterOnlyUsa=country==\"United States\""
   ]
  },
  {
   "cell_type": "code",
   "execution_count": 20,
   "id": "cef594cd",
   "metadata": {},
   "outputs": [
    {
     "data": {
      "text/plain": [
       "0     True\n",
       "1    False\n",
       "2    False\n",
       "3     True\n",
       "4    False\n",
       "5    False\n",
       "6     True\n",
       "7    False\n",
       "8    False\n",
       "9    False\n",
       "Name: Country, dtype: bool"
      ]
     },
     "execution_count": 20,
     "metadata": {},
     "output_type": "execute_result"
    }
   ],
   "source": [
    "filterOnlyUsa.head(10)"
   ]
  },
  {
   "cell_type": "code",
   "execution_count": 22,
   "id": "bec2eb79",
   "metadata": {},
   "outputs": [
    {
     "data": {
      "text/plain": [
       "0              Secondary school\n",
       "3               Doctoral degree\n",
       "6               Master's degree\n",
       "10            Bachelor's degree\n",
       "15    Primary/elementary school\n",
       "17            Bachelor's degree\n",
       "18            Bachelor's degree\n",
       "25              Master's degree\n",
       "27            Bachelor's degree\n",
       "29            Bachelor's degree\n",
       "Name: FormalEducation, dtype: object"
      ]
     },
     "execution_count": 22,
     "metadata": {},
     "output_type": "execute_result"
    }
   ],
   "source": [
    "education.where(filterOnlyUsa).dropna().head(10)"
   ]
  },
  {
   "cell_type": "code",
   "execution_count": null,
   "id": "605cd318",
   "metadata": {},
   "outputs": [],
   "source": []
  }
 ],
 "metadata": {
  "kernelspec": {
   "display_name": "Python 3",
   "language": "python",
   "name": "python3"
  },
  "language_info": {
   "codemirror_mode": {
    "name": "ipython",
    "version": 3
   },
   "file_extension": ".py",
   "mimetype": "text/x-python",
   "name": "python",
   "nbconvert_exporter": "python",
   "pygments_lexer": "ipython3",
   "version": "3.8.8"
  }
 },
 "nbformat": 4,
 "nbformat_minor": 5
}
