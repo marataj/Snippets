{
 "cells": [
  {
   "cell_type": "code",
   "execution_count": 1,
   "id": "85b88cc6",
   "metadata": {},
   "outputs": [],
   "source": [
    "import pandas as pd\n",
    "import numpy as np\n",
    "import matplotlib.pyplot as plt\n",
    "import math as math\n",
    "import random"
   ]
  },
  {
   "cell_type": "code",
   "execution_count": 2,
   "id": "dc5d26a0",
   "metadata": {},
   "outputs": [],
   "source": [
    "dataAsFloatList=[]\n",
    "for i in range(100000):\n",
    "    dataAsFloatList.append(i*random.randint(0,1000))"
   ]
  },
  {
   "cell_type": "code",
   "execution_count": 3,
   "id": "42cddb7c",
   "metadata": {},
   "outputs": [],
   "source": [
    "dataAsFloatSeries=pd.Series(dataAsFloatList)"
   ]
  },
  {
   "cell_type": "code",
   "execution_count": 4,
   "id": "84175f05",
   "metadata": {},
   "outputs": [
    {
     "name": "stdout",
     "output_type": "stream",
     "text": [
      "100000\n",
      "800000\n",
      "(100000,)\n",
      "[RangeIndex(start=0, stop=100000, step=1)]\n"
     ]
    }
   ],
   "source": [
    "print(dataAsFloatSeries.size)\n",
    "print(dataAsFloatSeries.nbytes)\n",
    "print(dataAsFloatSeries.shape)\n",
    "print(dataAsFloatSeries.axes)"
   ]
  },
  {
   "cell_type": "code",
   "execution_count": null,
   "id": "9322b38e",
   "metadata": {},
   "outputs": [],
   "source": [
    "dataAsFloatSeries."
   ]
  }
 ],
 "metadata": {
  "kernelspec": {
   "display_name": "Python 3",
   "language": "python",
   "name": "python3"
  },
  "language_info": {
   "codemirror_mode": {
    "name": "ipython",
    "version": 3
   },
   "file_extension": ".py",
   "mimetype": "text/x-python",
   "name": "python",
   "nbconvert_exporter": "python",
   "pygments_lexer": "ipython3",
   "version": "3.8.8"
  }
 },
 "nbformat": 4,
 "nbformat_minor": 5
}
