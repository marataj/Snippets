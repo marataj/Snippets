{
 "cells": [
  {
   "cell_type": "code",
   "execution_count": 1,
   "id": "44cf3930",
   "metadata": {},
   "outputs": [],
   "source": [
    "import pandas as pd\n",
    "import random as rd"
   ]
  },
  {
   "cell_type": "code",
   "execution_count": 3,
   "id": "268c59b3",
   "metadata": {},
   "outputs": [
    {
     "data": {
      "text/plain": [
       "{'PYT001': 'Airbus 320', 'PYT002': 'Boeing 737', 'PYT003': 'Airbus321'}"
      ]
     },
     "execution_count": 3,
     "metadata": {},
     "output_type": "execute_result"
    }
   ],
   "source": [
    "planesDict={\"PYT001\":\"Airbus 320\", \"PYT002\":\"Boeing 737\",\"PYT003\":\"Airbus321\"}\n",
    "planesDict"
   ]
  },
  {
   "cell_type": "code",
   "execution_count": 5,
   "id": "788d1cee",
   "metadata": {},
   "outputs": [
    {
     "data": {
      "text/plain": [
       "PYT001    Airbus 320\n",
       "PYT002    Boeing 737\n",
       "PYT003     Airbus321\n",
       "dtype: object"
      ]
     },
     "execution_count": 5,
     "metadata": {},
     "output_type": "execute_result"
    }
   ],
   "source": [
    "aircrafts=pd.Series(planesDict)\n",
    "aircrafts"
   ]
  },
  {
   "cell_type": "code",
   "execution_count": 6,
   "id": "b4348fcf",
   "metadata": {},
   "outputs": [
    {
     "data": {
      "text/plain": [
       "Index(['PYT001', 'PYT002', 'PYT003'], dtype='object')"
      ]
     },
     "execution_count": 6,
     "metadata": {},
     "output_type": "execute_result"
    }
   ],
   "source": [
    "aircrafts.index"
   ]
  },
  {
   "cell_type": "code",
   "execution_count": 8,
   "id": "7c515ee7",
   "metadata": {},
   "outputs": [],
   "source": [
    "flightsList=[]\n",
    "for i in range(100):\n",
    "    flightsList.append(rd.choice(aircrafts.index))"
   ]
  },
  {
   "cell_type": "code",
   "execution_count": 10,
   "id": "bbd8fb05",
   "metadata": {},
   "outputs": [
    {
     "data": {
      "text/plain": [
       "['PYT003', 'PYT002', 'PYT003', 'PYT001', 'PYT001']"
      ]
     },
     "execution_count": 10,
     "metadata": {},
     "output_type": "execute_result"
    }
   ],
   "source": [
    "flightsList[:5]"
   ]
  },
  {
   "cell_type": "code",
   "execution_count": 11,
   "id": "83b65fe5",
   "metadata": {},
   "outputs": [],
   "source": [
    "flightsListSeries=pd.Series(flightsList)"
   ]
  },
  {
   "cell_type": "code",
   "execution_count": 12,
   "id": "3d8112b4",
   "metadata": {},
   "outputs": [
    {
     "data": {
      "text/plain": [
       "0    PYT003\n",
       "1    PYT002\n",
       "2    PYT003\n",
       "3    PYT001\n",
       "4    PYT001\n",
       "dtype: object"
      ]
     },
     "execution_count": 12,
     "metadata": {},
     "output_type": "execute_result"
    }
   ],
   "source": [
    "flightsListSeries.head()"
   ]
  },
  {
   "cell_type": "markdown",
   "id": "87ec5f20",
   "metadata": {},
   "source": [
    "### Użyj metody żeby przypisać serii A wartości serii B. Funkcja ma zastosowanie, jeżeli values A to index w B"
   ]
  },
  {
   "cell_type": "code",
   "execution_count": 13,
   "id": "bd95fdb3",
   "metadata": {},
   "outputs": [
    {
     "data": {
      "text/plain": [
       "0     Airbus321\n",
       "1    Boeing 737\n",
       "2     Airbus321\n",
       "3    Airbus 320\n",
       "4    Airbus 320\n",
       "dtype: object"
      ]
     },
     "execution_count": 13,
     "metadata": {},
     "output_type": "execute_result"
    }
   ],
   "source": [
    "flightsListSeries.map(aircrafts).head()"
   ]
  },
  {
   "cell_type": "code",
   "execution_count": null,
   "id": "ce6f9685",
   "metadata": {},
   "outputs": [],
   "source": []
  }
 ],
 "metadata": {
  "kernelspec": {
   "display_name": "Python 3",
   "language": "python",
   "name": "python3"
  },
  "language_info": {
   "codemirror_mode": {
    "name": "ipython",
    "version": 3
   },
   "file_extension": ".py",
   "mimetype": "text/x-python",
   "name": "python",
   "nbconvert_exporter": "python",
   "pygments_lexer": "ipython3",
   "version": "3.8.8"
  }
 },
 "nbformat": 4,
 "nbformat_minor": 5
}
