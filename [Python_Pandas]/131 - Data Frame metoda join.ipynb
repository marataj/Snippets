{
 "cells": [
  {
   "cell_type": "code",
   "execution_count": 1,
   "id": "6239c298",
   "metadata": {},
   "outputs": [],
   "source": [
    "import pandas as pd\n",
    "import numpy as np"
   ]
  },
  {
   "cell_type": "code",
   "execution_count": 3,
   "id": "5bd7a8d7",
   "metadata": {},
   "outputs": [],
   "source": [
    "customerNames=pd.read_csv(r\"d:\\temp\\northwind-mongo-master\\customers.csv\",usecols=[\"CustomerID\",\"CompanyName\"])\n",
    "customerCity=pd.read_csv(r\"d:\\temp\\northwind-mongo-master\\customers.csv\",usecols=[\"CustomerID\",\"City\",\"Country\"])"
   ]
  },
  {
   "cell_type": "code",
   "execution_count": 5,
   "id": "fe24cc18",
   "metadata": {},
   "outputs": [
    {
     "data": {
      "text/plain": [
       "91"
      ]
     },
     "execution_count": 5,
     "metadata": {},
     "output_type": "execute_result"
    }
   ],
   "source": [
    "len(customerNames)"
   ]
  },
  {
   "cell_type": "code",
   "execution_count": 7,
   "id": "fc5033c3",
   "metadata": {},
   "outputs": [
    {
     "data": {
      "text/plain": [
       "91"
      ]
     },
     "execution_count": 7,
     "metadata": {},
     "output_type": "execute_result"
    }
   ],
   "source": [
    "len(customerCity)"
   ]
  },
  {
   "cell_type": "code",
   "execution_count": 9,
   "id": "dd96fb93",
   "metadata": {},
   "outputs": [],
   "source": [
    "customerNames.set_index(\"CustomerID\",inplace=True)"
   ]
  },
  {
   "cell_type": "code",
   "execution_count": 10,
   "id": "a7b91830",
   "metadata": {},
   "outputs": [],
   "source": [
    "customerCity.set_index(\"CustomerID\",inplace=True)"
   ]
  },
  {
   "cell_type": "code",
   "execution_count": 15,
   "id": "26c59e6b",
   "metadata": {},
   "outputs": [
    {
     "data": {
      "text/plain": [
       "91"
      ]
     },
     "execution_count": 15,
     "metadata": {},
     "output_type": "execute_result"
    }
   ],
   "source": [
    "len(customerNames.join(customerCity))"
   ]
  },
  {
   "cell_type": "code",
   "execution_count": 13,
   "id": "f8abcc17",
   "metadata": {},
   "outputs": [],
   "source": [
    "customerCity.reset_index(inplace=True)"
   ]
  },
  {
   "cell_type": "code",
   "execution_count": 16,
   "id": "88043717",
   "metadata": {},
   "outputs": [
    {
     "data": {
      "text/plain": [
       "91"
      ]
     },
     "execution_count": 16,
     "metadata": {},
     "output_type": "execute_result"
    }
   ],
   "source": [
    "len(customerCity.join(customerNames,on=\"CustomerID\"))"
   ]
  },
  {
   "cell_type": "code",
   "execution_count": null,
   "id": "ec8923c2",
   "metadata": {},
   "outputs": [],
   "source": []
  }
 ],
 "metadata": {
  "kernelspec": {
   "display_name": "Python 3",
   "language": "python",
   "name": "python3"
  },
  "language_info": {
   "codemirror_mode": {
    "name": "ipython",
    "version": 3
   },
   "file_extension": ".py",
   "mimetype": "text/x-python",
   "name": "python",
   "nbconvert_exporter": "python",
   "pygments_lexer": "ipython3",
   "version": "3.8.8"
  }
 },
 "nbformat": 4,
 "nbformat_minor": 5
}
