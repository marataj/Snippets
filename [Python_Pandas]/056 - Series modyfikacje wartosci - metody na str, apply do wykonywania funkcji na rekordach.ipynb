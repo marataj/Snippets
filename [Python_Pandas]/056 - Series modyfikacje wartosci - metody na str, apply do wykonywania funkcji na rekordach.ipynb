{
 "cells": [
  {
   "cell_type": "code",
   "execution_count": 2,
   "id": "17386e64",
   "metadata": {},
   "outputs": [],
   "source": [
    "import pandas as pd"
   ]
  },
  {
   "cell_type": "code",
   "execution_count": 3,
   "id": "13021e77",
   "metadata": {},
   "outputs": [],
   "source": [
    "surveys=pd.read_csv(r\"d:\\temp\\StackOverflowDeveloperSurvey.csv\",usecols=[\"Salary\"],squeeze=True).dropna()"
   ]
  },
  {
   "cell_type": "code",
   "execution_count": 4,
   "id": "81fd86ba",
   "metadata": {},
   "outputs": [
    {
     "data": {
      "text/plain": [
       "2     113750.0\n",
       "14    100000.0\n",
       "17    130000.0\n",
       "18     82500.0\n",
       "22    100764.0\n",
       "Name: Salary, dtype: float64"
      ]
     },
     "execution_count": 4,
     "metadata": {},
     "output_type": "execute_result"
    }
   ],
   "source": [
    "surveys.head()"
   ]
  },
  {
   "cell_type": "code",
   "execution_count": 5,
   "id": "4e74f29c",
   "metadata": {},
   "outputs": [
    {
     "data": {
      "text/plain": [
       "12891"
      ]
     },
     "execution_count": 5,
     "metadata": {},
     "output_type": "execute_result"
    }
   ],
   "source": [
    "surveys.count()"
   ]
  },
  {
   "cell_type": "code",
   "execution_count": 6,
   "id": "91c73b72",
   "metadata": {},
   "outputs": [],
   "source": [
    "surveysIncrease=surveys*0.03"
   ]
  },
  {
   "cell_type": "code",
   "execution_count": 7,
   "id": "200a42a5",
   "metadata": {},
   "outputs": [],
   "source": [
    "surveysAfterIncrease=surveys+surveysIncrease"
   ]
  },
  {
   "cell_type": "code",
   "execution_count": 8,
   "id": "bdfd1459",
   "metadata": {},
   "outputs": [
    {
     "data": {
      "text/plain": [
       "2     117162.50\n",
       "14    103000.00\n",
       "17    133900.00\n",
       "18     84975.00\n",
       "22    103786.92\n",
       "Name: Salary, dtype: float64"
      ]
     },
     "execution_count": 8,
     "metadata": {},
     "output_type": "execute_result"
    }
   ],
   "source": [
    "surveysAfterIncrease.head()"
   ]
  },
  {
   "cell_type": "code",
   "execution_count": 11,
   "id": "b978a2d5",
   "metadata": {},
   "outputs": [],
   "source": [
    "surveysTime=pd.read_csv(r\"d:\\temp\\StackOverflowDeveloperSurvey2018.csv\",usecols=[\"HoursOutside\"],squeeze=True,low_memory=False).dropna()"
   ]
  },
  {
   "cell_type": "code",
   "execution_count": 12,
   "id": "bbf819ff",
   "metadata": {},
   "outputs": [
    {
     "data": {
      "text/plain": [
       "0                 1 - 2 hours\n",
       "1             30 - 59 minutes\n",
       "3        Less than 30 minutes\n",
       "4                 1 - 2 hours\n",
       "5             30 - 59 minutes\n",
       "                 ...         \n",
       "93408             1 - 2 hours\n",
       "93416             3 - 4 hours\n",
       "93435             1 - 2 hours\n",
       "93442    Less than 30 minutes\n",
       "93462             1 - 2 hours\n",
       "Name: HoursOutside, Length: 72024, dtype: object"
      ]
     },
     "execution_count": 12,
     "metadata": {},
     "output_type": "execute_result"
    }
   ],
   "source": [
    "surveysTime"
   ]
  },
  {
   "cell_type": "code",
   "execution_count": 13,
   "id": "497bd800",
   "metadata": {},
   "outputs": [
    {
     "data": {
      "text/plain": [
       "1 - 2 hours             27788\n",
       "30 - 59 minutes         24002\n",
       "Less than 30 minutes    11223\n",
       "3 - 4 hours              7186\n",
       "Over 4 hours             1825\n",
       "Name: HoursOutside, dtype: int64"
      ]
     },
     "execution_count": 13,
     "metadata": {},
     "output_type": "execute_result"
    }
   ],
   "source": [
    "surveysTime.value_counts()"
   ]
  },
  {
   "cell_type": "code",
   "execution_count": 17,
   "id": "c8547ef5",
   "metadata": {},
   "outputs": [],
   "source": [
    "surveysTime=surveysTime.str.lower()"
   ]
  },
  {
   "cell_type": "code",
   "execution_count": 18,
   "id": "4993e01d",
   "metadata": {},
   "outputs": [
    {
     "data": {
      "text/plain": [
       "0                 1 - 2 hours\n",
       "1             30 - 59 minutes\n",
       "3        less than 30 minutes\n",
       "4                 1 - 2 hours\n",
       "5             30 - 59 minutes\n",
       "                 ...         \n",
       "93408             1 - 2 hours\n",
       "93416             3 - 4 hours\n",
       "93435             1 - 2 hours\n",
       "93442    less than 30 minutes\n",
       "93462             1 - 2 hours\n",
       "Name: HoursOutside, Length: 72024, dtype: object"
      ]
     },
     "execution_count": 18,
     "metadata": {},
     "output_type": "execute_result"
    }
   ],
   "source": [
    "surveysTime"
   ]
  },
  {
   "cell_type": "code",
   "execution_count": 21,
   "id": "845f8a42",
   "metadata": {},
   "outputs": [],
   "source": [
    "def ChangeDescription(desc):\n",
    "    if \"less than 30 minutes\" in desc:\n",
    "        desc=\"Less than half hour\"\n",
    "    return desc"
   ]
  },
  {
   "cell_type": "code",
   "execution_count": 22,
   "id": "5a5137a1",
   "metadata": {},
   "outputs": [
    {
     "data": {
      "text/plain": [
       "0                1 - 2 hours\n",
       "1            30 - 59 minutes\n",
       "3        Less than half hour\n",
       "4                1 - 2 hours\n",
       "5            30 - 59 minutes\n",
       "                ...         \n",
       "93408            1 - 2 hours\n",
       "93416            3 - 4 hours\n",
       "93435            1 - 2 hours\n",
       "93442    Less than half hour\n",
       "93462            1 - 2 hours\n",
       "Name: HoursOutside, Length: 72024, dtype: object"
      ]
     },
     "execution_count": 22,
     "metadata": {},
     "output_type": "execute_result"
    }
   ],
   "source": [
    "surveysTime.apply(ChangeDescription)"
   ]
  },
  {
   "cell_type": "code",
   "execution_count": 23,
   "id": "3fa5a8b1",
   "metadata": {},
   "outputs": [
    {
     "data": {
      "text/plain": [
       "1 - 2 hours             27788\n",
       "30 - 59 minutes         24002\n",
       "less than 30 minutes    11223\n",
       "3 - 4 hours              7186\n",
       "over 4 hours             1825\n",
       "Name: HoursOutside, dtype: int64"
      ]
     },
     "execution_count": 23,
     "metadata": {},
     "output_type": "execute_result"
    }
   ],
   "source": [
    "surveysTime.value_counts()"
   ]
  },
  {
   "cell_type": "code",
   "execution_count": null,
   "id": "ef8af5ff",
   "metadata": {},
   "outputs": [],
   "source": []
  }
 ],
 "metadata": {
  "kernelspec": {
   "display_name": "Python 3",
   "language": "python",
   "name": "python3"
  },
  "language_info": {
   "codemirror_mode": {
    "name": "ipython",
    "version": 3
   },
   "file_extension": ".py",
   "mimetype": "text/x-python",
   "name": "python",
   "nbconvert_exporter": "python",
   "pygments_lexer": "ipython3",
   "version": "3.8.8"
  }
 },
 "nbformat": 4,
 "nbformat_minor": 5
}
