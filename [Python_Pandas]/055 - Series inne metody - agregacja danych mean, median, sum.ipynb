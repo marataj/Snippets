{
 "cells": [
  {
   "cell_type": "code",
   "execution_count": 1,
   "id": "cd2967fc",
   "metadata": {},
   "outputs": [],
   "source": [
    "import pandas as pd"
   ]
  },
  {
   "cell_type": "code",
   "execution_count": 11,
   "id": "3b1996ef",
   "metadata": {},
   "outputs": [],
   "source": [
    "programmers=pd.read_csv(r\"d:\\temp\\StackOverflowDeveloperSurvey2018.csv\",low_memory=False,usecols=[\"ConvertedSalary\"],squeeze=True)"
   ]
  },
  {
   "cell_type": "code",
   "execution_count": 13,
   "id": "a57dfba2",
   "metadata": {},
   "outputs": [],
   "source": [
    "programmers.dropna(inplace=True)"
   ]
  },
  {
   "cell_type": "code",
   "execution_count": 14,
   "id": "4ead095b",
   "metadata": {},
   "outputs": [
    {
     "data": {
      "text/plain": [
       "1         70841.0\n",
       "4         21426.0\n",
       "5         41671.0\n",
       "6        120000.0\n",
       "8        250000.0\n",
       "           ...   \n",
       "89941         0.0\n",
       "89946         0.0\n",
       "89954     10284.0\n",
       "89960         0.0\n",
       "89965         0.0\n",
       "Name: ConvertedSalary, Length: 47702, dtype: float64"
      ]
     },
     "execution_count": 14,
     "metadata": {},
     "output_type": "execute_result"
    }
   ],
   "source": [
    "programmers"
   ]
  },
  {
   "cell_type": "code",
   "execution_count": 15,
   "id": "840b5c81",
   "metadata": {},
   "outputs": [
    {
     "data": {
      "text/plain": [
       "95780.86178776571"
      ]
     },
     "execution_count": 15,
     "metadata": {},
     "output_type": "execute_result"
    }
   ],
   "source": [
    "programmers.mean()"
   ]
  },
  {
   "cell_type": "code",
   "execution_count": 16,
   "id": "a55c291d",
   "metadata": {},
   "outputs": [
    {
     "data": {
      "text/plain": [
       "55075.0"
      ]
     },
     "execution_count": 16,
     "metadata": {},
     "output_type": "execute_result"
    }
   ],
   "source": [
    "programmers.median()"
   ]
  },
  {
   "cell_type": "code",
   "execution_count": 17,
   "id": "39cce094",
   "metadata": {},
   "outputs": [
    {
     "data": {
      "text/plain": [
       "202348.21562528735"
      ]
     },
     "execution_count": 17,
     "metadata": {},
     "output_type": "execute_result"
    }
   ],
   "source": [
    "programmers.std()"
   ]
  },
  {
   "cell_type": "code",
   "execution_count": 18,
   "id": "b34bb2cb",
   "metadata": {},
   "outputs": [
    {
     "data": {
      "text/plain": [
       "1      70841.0\n",
       "4      21426.0\n",
       "5      41671.0\n",
       "6     120000.0\n",
       "8     250000.0\n",
       "14         0.0\n",
       "17     47904.0\n",
       "20     95968.0\n",
       "22       420.0\n",
       "23     75000.0\n",
       "Name: ConvertedSalary, dtype: float64"
      ]
     },
     "execution_count": 18,
     "metadata": {},
     "output_type": "execute_result"
    }
   ],
   "source": [
    "programmers.head(10)"
   ]
  },
  {
   "cell_type": "code",
   "execution_count": 22,
   "id": "4126bd0c",
   "metadata": {},
   "outputs": [],
   "source": [
    "programmers.sort_values(inplace=True)"
   ]
  },
  {
   "cell_type": "code",
   "execution_count": 23,
   "id": "4445e625",
   "metadata": {},
   "outputs": [
    {
     "data": {
      "text/plain": [
       "70868    2000000.0\n",
       "65140    2000000.0\n",
       "65146    2000000.0\n",
       "20846    2000000.0\n",
       "79322    2000000.0\n",
       "19647    2000000.0\n",
       "59615    2000000.0\n",
       "70913    2000000.0\n",
       "10656    2000000.0\n",
       "51913    2000000.0\n",
       "Name: ConvertedSalary, dtype: float64"
      ]
     },
     "execution_count": 23,
     "metadata": {},
     "output_type": "execute_result"
    }
   ],
   "source": [
    "programmers.tail(10)"
   ]
  },
  {
   "cell_type": "code",
   "execution_count": null,
   "id": "fd3471c7",
   "metadata": {},
   "outputs": [],
   "source": []
  }
 ],
 "metadata": {
  "kernelspec": {
   "display_name": "Python 3",
   "language": "python",
   "name": "python3"
  },
  "language_info": {
   "codemirror_mode": {
    "name": "ipython",
    "version": 3
   },
   "file_extension": ".py",
   "mimetype": "text/x-python",
   "name": "python",
   "nbconvert_exporter": "python",
   "pygments_lexer": "ipython3",
   "version": "3.8.8"
  }
 },
 "nbformat": 4,
 "nbformat_minor": 5
}
