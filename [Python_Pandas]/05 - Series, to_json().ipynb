{
 "cells": [
  {
   "cell_type": "code",
   "execution_count": 1,
   "id": "e3696f95",
   "metadata": {},
   "outputs": [],
   "source": [
    "import pandas as pd"
   ]
  },
  {
   "cell_type": "code",
   "execution_count": 2,
   "id": "a5a20b65",
   "metadata": {},
   "outputs": [],
   "source": [
    "lista = ['jeden','dwa','trzy']"
   ]
  },
  {
   "cell_type": "code",
   "execution_count": 3,
   "id": "034400a7",
   "metadata": {},
   "outputs": [
    {
     "data": {
      "text/plain": [
       "['jeden', 'dwa', 'trzy']"
      ]
     },
     "execution_count": 3,
     "metadata": {},
     "output_type": "execute_result"
    }
   ],
   "source": [
    "lista"
   ]
  },
  {
   "cell_type": "code",
   "execution_count": 4,
   "id": "868d4953",
   "metadata": {},
   "outputs": [
    {
     "ename": "AttributeError",
     "evalue": "'list' object has no attribute 'head'",
     "output_type": "error",
     "traceback": [
      "\u001b[1;31m---------------------------------------------------------------------------\u001b[0m",
      "\u001b[1;31mAttributeError\u001b[0m                            Traceback (most recent call last)",
      "\u001b[1;32m<ipython-input-4-6ad9653e810a>\u001b[0m in \u001b[0;36m<module>\u001b[1;34m\u001b[0m\n\u001b[1;32m----> 1\u001b[1;33m \u001b[0mlista\u001b[0m\u001b[1;33m.\u001b[0m\u001b[0mhead\u001b[0m\u001b[1;33m\u001b[0m\u001b[1;33m\u001b[0m\u001b[0m\n\u001b[0m",
      "\u001b[1;31mAttributeError\u001b[0m: 'list' object has no attribute 'head'"
     ]
    }
   ],
   "source": [
    "lista.head"
   ]
  },
  {
   "cell_type": "code",
   "execution_count": null,
   "id": "18ae55fa",
   "metadata": {},
   "outputs": [],
   "source": [
    "listaSeria = pd.Series( )"
   ]
  },
  {
   "cell_type": "code",
   "execution_count": 11,
   "id": "da09eb51",
   "metadata": {},
   "outputs": [],
   "source": [
    "jsonik=listaSeria.to_json()\n",
    "\n"
   ]
  },
  {
   "cell_type": "code",
   "execution_count": 12,
   "id": "21d809cb",
   "metadata": {},
   "outputs": [
    {
     "data": {
      "text/plain": [
       "'{\"0\":\"jeden\",\"1\":\"dwa\",\"2\":\"trzy\"}'"
      ]
     },
     "execution_count": 12,
     "metadata": {},
     "output_type": "execute_result"
    }
   ],
   "source": [
    "jsonik"
   ]
  },
  {
   "cell_type": "code",
   "execution_count": 13,
   "id": "b488d15f",
   "metadata": {},
   "outputs": [
    {
     "ename": "SyntaxError",
     "evalue": "invalid syntax (<ipython-input-13-69ae3c4a772e>, line 1)",
     "output_type": "error",
     "traceback": [
      "\u001b[1;36m  File \u001b[1;32m\"<ipython-input-13-69ae3c4a772e>\"\u001b[1;36m, line \u001b[1;32m1\u001b[0m\n\u001b[1;33m    jsonik.\"0\"\u001b[0m\n\u001b[1;37m           ^\u001b[0m\n\u001b[1;31mSyntaxError\u001b[0m\u001b[1;31m:\u001b[0m invalid syntax\n"
     ]
    }
   ],
   "source": [
    "jsonik.\"0\""
   ]
  },
  {
   "cell_type": "code",
   "execution_count": 14,
   "id": "5d50127a",
   "metadata": {},
   "outputs": [],
   "source": [
    "lista=[1,2,3,4,5,6,7,8,9,10]"
   ]
  },
  {
   "cell_type": "code",
   "execution_count": 15,
   "id": "54e9e185",
   "metadata": {},
   "outputs": [],
   "source": [
    "listaser=pd.Series(lista)"
   ]
  },
  {
   "cell_type": "code",
   "execution_count": 16,
   "id": "68fd18b0",
   "metadata": {},
   "outputs": [
    {
     "data": {
      "text/plain": [
       "0    1\n",
       "1    2\n",
       "2    3\n",
       "3    4\n",
       "4    5\n",
       "dtype: int64"
      ]
     },
     "execution_count": 16,
     "metadata": {},
     "output_type": "execute_result"
    }
   ],
   "source": [
    "listaser.head()"
   ]
  },
  {
   "cell_type": "code",
   "execution_count": 17,
   "id": "20290890",
   "metadata": {},
   "outputs": [
    {
     "data": {
      "text/plain": [
       "False   NaN\n",
       "False   NaN\n",
       "False   NaN\n",
       "False   NaN\n",
       "False   NaN\n",
       "True    NaN\n",
       "True    NaN\n",
       "True    NaN\n",
       "True    NaN\n",
       "True    NaN\n",
       "dtype: float64"
      ]
     },
     "execution_count": 17,
     "metadata": {},
     "output_type": "execute_result"
    }
   ],
   "source": [
    "listaser.filter(listaser>5)"
   ]
  },
  {
   "cell_type": "code",
   "execution_count": 18,
   "id": "5ac2001b",
   "metadata": {},
   "outputs": [
    {
     "data": {
      "text/plain": [
       "0     1\n",
       "1     2\n",
       "2     3\n",
       "3     4\n",
       "4     5\n",
       "5     6\n",
       "6     7\n",
       "7     8\n",
       "8     9\n",
       "9    10\n",
       "dtype: int64"
      ]
     },
     "execution_count": 18,
     "metadata": {},
     "output_type": "execute_result"
    }
   ],
   "source": [
    "listaser"
   ]
  },
  {
   "cell_type": "code",
   "execution_count": 20,
   "id": "fd08234f",
   "metadata": {},
   "outputs": [
    {
     "data": {
      "text/plain": [
       "0    10\n",
       "1     9\n",
       "2     8\n",
       "3     7\n",
       "4     6\n",
       "5     5\n",
       "6     4\n",
       "7     3\n",
       "8     2\n",
       "9     1\n",
       "dtype: int64"
      ]
     },
     "execution_count": 20,
     "metadata": {},
     "output_type": "execute_result"
    }
   ],
   "source": [
    "listaser.sort_values(ascending=False, ignore_index=True)"
   ]
  },
  {
   "cell_type": "code",
   "execution_count": null,
   "id": "69305829",
   "metadata": {},
   "outputs": [],
   "source": []
  }
 ],
 "metadata": {
  "kernelspec": {
   "display_name": "Python 3",
   "language": "python",
   "name": "python3"
  },
  "language_info": {
   "codemirror_mode": {
    "name": "ipython",
    "version": 3
   },
   "file_extension": ".py",
   "mimetype": "text/x-python",
   "name": "python",
   "nbconvert_exporter": "python",
   "pygments_lexer": "ipython3",
   "version": "3.8.8"
  }
 },
 "nbformat": 4,
 "nbformat_minor": 5
}
