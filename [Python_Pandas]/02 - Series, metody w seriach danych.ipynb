{
 "cells": [
  {
   "cell_type": "markdown",
   "id": "3e38d238",
   "metadata": {},
   "source": [
    "# Metody w obiektach Series"
   ]
  },
  {
   "cell_type": "code",
   "execution_count": 1,
   "id": "83e77144",
   "metadata": {},
   "outputs": [],
   "source": [
    "import pandas as pd\n",
    "import numpy as np\n",
    "import matplotlib.pyplot as plt\n",
    "import math"
   ]
  },
  {
   "cell_type": "code",
   "execution_count": 2,
   "id": "56aafbb2",
   "metadata": {},
   "outputs": [],
   "source": [
    "cities=[\"Shanghai\",\"Beijing\",\"Istanbul\"]\n",
    "population=[24183300,20794100,15030000]"
   ]
  },
  {
   "cell_type": "code",
   "execution_count": 3,
   "id": "76d36248",
   "metadata": {},
   "outputs": [],
   "source": [
    "citiespop=pd.Series(data=population,index=cities)"
   ]
  },
  {
   "cell_type": "code",
   "execution_count": 4,
   "id": "09c41163",
   "metadata": {},
   "outputs": [
    {
     "data": {
      "text/plain": [
       "Shanghai    24183300\n",
       "Beijing     20794100\n",
       "Istanbul    15030000\n",
       "dtype: int64"
      ]
     },
     "execution_count": 4,
     "metadata": {},
     "output_type": "execute_result"
    }
   ],
   "source": [
    "citiespop\n"
   ]
  },
  {
   "cell_type": "code",
   "execution_count": 5,
   "id": "fdc4d639",
   "metadata": {},
   "outputs": [
    {
     "data": {
      "text/plain": [
       "60007400"
      ]
     },
     "execution_count": 5,
     "metadata": {},
     "output_type": "execute_result"
    }
   ],
   "source": [
    "citiespop.sum()"
   ]
  },
  {
   "cell_type": "code",
   "execution_count": 7,
   "id": "64c239a4",
   "metadata": {},
   "outputs": [
    {
     "data": {
      "text/plain": [
       "20002466.666666668"
      ]
     },
     "execution_count": 7,
     "metadata": {},
     "output_type": "execute_result"
    }
   ],
   "source": [
    "citiespop.mean()"
   ]
  },
  {
   "cell_type": "code",
   "execution_count": 8,
   "id": "48a4b6cf",
   "metadata": {},
   "outputs": [
    {
     "data": {
      "text/plain": [
       "<bound method Series.keys of Shanghai    24183300\n",
       "Beijing     20794100\n",
       "Istanbul    15030000\n",
       "dtype: int64>"
      ]
     },
     "execution_count": 8,
     "metadata": {},
     "output_type": "execute_result"
    }
   ],
   "source": [
    "citiespop.keys"
   ]
  },
  {
   "cell_type": "code",
   "execution_count": 9,
   "id": "5c5fe204",
   "metadata": {},
   "outputs": [
    {
     "data": {
      "text/plain": [
       "Index(['Shanghai', 'Beijing', 'Istanbul'], dtype='object')"
      ]
     },
     "execution_count": 9,
     "metadata": {},
     "output_type": "execute_result"
    }
   ],
   "source": [
    "citiespop.index"
   ]
  },
  {
   "cell_type": "code",
   "execution_count": 10,
   "id": "271b0d1f",
   "metadata": {},
   "outputs": [
    {
     "data": {
      "text/plain": [
       "Index(['Shanghai', 'Beijing', 'Istanbul'], dtype='object')"
      ]
     },
     "execution_count": 10,
     "metadata": {},
     "output_type": "execute_result"
    }
   ],
   "source": [
    "citiespop.keys()"
   ]
  },
  {
   "cell_type": "code",
   "execution_count": 11,
   "id": "1ca44791",
   "metadata": {},
   "outputs": [
    {
     "ename": "TypeError",
     "evalue": "'numpy.ndarray' object is not callable",
     "output_type": "error",
     "traceback": [
      "\u001b[1;31m---------------------------------------------------------------------------\u001b[0m",
      "\u001b[1;31mTypeError\u001b[0m                                 Traceback (most recent call last)",
      "\u001b[1;32m<ipython-input-11-85b0ff3e52c5>\u001b[0m in \u001b[0;36m<module>\u001b[1;34m\u001b[0m\n\u001b[1;32m----> 1\u001b[1;33m \u001b[0mcitiespop\u001b[0m\u001b[1;33m.\u001b[0m\u001b[0mvalues\u001b[0m\u001b[1;33m(\u001b[0m\u001b[1;33m)\u001b[0m\u001b[1;33m\u001b[0m\u001b[1;33m\u001b[0m\u001b[0m\n\u001b[0m",
      "\u001b[1;31mTypeError\u001b[0m: 'numpy.ndarray' object is not callable"
     ]
    }
   ],
   "source": [
    "citiespop.values()"
   ]
  },
  {
   "cell_type": "code",
   "execution_count": 12,
   "id": "55baa1e9",
   "metadata": {},
   "outputs": [
    {
     "data": {
      "text/plain": [
       "array([24183300, 20794100, 15030000], dtype=int64)"
      ]
     },
     "execution_count": 12,
     "metadata": {},
     "output_type": "execute_result"
    }
   ],
   "source": [
    "citiespop.values"
   ]
  },
  {
   "cell_type": "code",
   "execution_count": 13,
   "id": "69577836",
   "metadata": {},
   "outputs": [
    {
     "data": {
      "text/plain": [
       "array([24183300, 20794100, 15030000], dtype=int64)"
      ]
     },
     "execution_count": 13,
     "metadata": {},
     "output_type": "execute_result"
    }
   ],
   "source": [
    "citiespop.values"
   ]
  },
  {
   "cell_type": "code",
   "execution_count": null,
   "id": "3dc9e81a",
   "metadata": {},
   "outputs": [],
   "source": []
  }
 ],
 "metadata": {
  "kernelspec": {
   "display_name": "Python 3",
   "language": "python",
   "name": "python3"
  },
  "language_info": {
   "codemirror_mode": {
    "name": "ipython",
    "version": 3
   },
   "file_extension": ".py",
   "mimetype": "text/x-python",
   "name": "python",
   "nbconvert_exporter": "python",
   "pygments_lexer": "ipython3",
   "version": "3.8.8"
  }
 },
 "nbformat": 4,
 "nbformat_minor": 5
}
