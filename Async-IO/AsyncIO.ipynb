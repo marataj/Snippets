{
 "cells": [
  {
   "cell_type": "markdown",
   "id": "5db30f78",
   "metadata": {},
   "source": [
    "https://realpython.com/async-io-python/#setting-up-your-environment \"Async IO Explained\" ....\n"
   ]
  },
  {
   "cell_type": "code",
   "execution_count": 4,
   "id": "e6bb2c1f",
   "metadata": {
    "collapsed": true
   },
   "outputs": [
    {
     "name": "stdout",
     "output_type": "stream",
     "text": [
      "One\n",
      "One\n",
      "One\n",
      "Two\n",
      "Two\n",
      "Two\n",
      "executed in 1.01 seconds.\n"
     ]
    }
   ],
   "source": [
    "import asyncio\n",
    "\n",
    "async def count():\n",
    "    print(\"One\")\n",
    "    await asyncio.sleep(1) #Nieblokujaca funkcja, ktora sygnalizuje ze kontrola moze byc przekazana z powrotem\n",
    "                            # do 'event loop' czyli w tym przypadku maina\n",
    "    print(\"Two\")\n",
    "\n",
    "async def main():\n",
    "    await asyncio.gather(count(), count(), count())\n",
    "\n",
    "\n",
    "import time\n",
    "s = time.perf_counter()\n",
    "await(main())\n",
    "elapsed = time.perf_counter() - s\n",
    "print(f\"executed in {elapsed:0.2f} seconds.\")"
   ]
  },
  {
   "cell_type": "markdown",
   "id": "e778ff73",
   "metadata": {},
   "source": [
    "# Próbujemy:"
   ]
  },
  {
   "cell_type": "code",
   "execution_count": 18,
   "id": "dfc6321a",
   "metadata": {
    "collapsed": true
   },
   "outputs": [
    {
     "name": "stdout",
     "output_type": "stream",
     "text": [
      "1\n",
      "2\n",
      "3\n",
      "x\n",
      "y\n",
      "x\n",
      "y\n",
      "x\n",
      "y\n",
      "x\n",
      "y\n",
      "x\n",
      "4\n",
      "5\n",
      "y\n"
     ]
    }
   ],
   "source": [
    "import asyncio\n",
    "import time\n",
    "\n",
    "\n",
    "async def wait_s(s: int) -> None:\n",
    "    for _ in range(s):\n",
    "        await asyncio.sleep(0.5)\n",
    "        print(\"x\")\n",
    "    return 0\n",
    "\n",
    "async def count_5():\n",
    "    print(\"1\")\n",
    "    print(\"2\")\n",
    "    print(\"3\")\n",
    "    y= await wait_s(5)\n",
    "    print(\"4\")\n",
    "    print(\"5\")\n",
    "    \n",
    "async def count_d():\n",
    "    for _ in range(5):\n",
    "        await asyncio.sleep(0.5)\n",
    "        print(\"y\")\n",
    "    return 0\n",
    "    \n",
    "    \n",
    "async def main():\n",
    "    await asyncio.gather(count_5(), count_d())\n",
    "    \n",
    "await(main())\n",
    "    "
   ]
  },
  {
   "cell_type": "code",
   "execution_count": 27,
   "id": "aa201f12",
   "metadata": {
    "collapsed": true
   },
   "outputs": [
    {
     "name": "stdout",
     "output_type": "stream",
     "text": [
      "\u001b[36mInitiated makerandom(0).\n",
      "\u001b[36mmakerandom(0) == 4 too low; retrying.\n",
      "\u001b[91mInitiated makerandom(1).\n",
      "\u001b[91mmakerandom(1) == 4 too low; retrying.\n",
      "\u001b[35mInitiated makerandom(2).\n",
      "\u001b[35mmakerandom(2) == 0 too low; retrying.\n",
      "\u001b[36mmakerandom(0) == 4 too low; retrying.\n",
      "\u001b[91mmakerandom(1) == 7 too low; retrying.\n",
      "\u001b[35mmakerandom(2) == 4 too low; retrying.\n",
      "\u001b[36mmakerandom(0) == 4 too low; retrying.\n",
      "\u001b[91mmakerandom(1) == 8 too low; retrying.\n",
      "\u001b[35m---> Finished: makerandom(2) == 10\u001b[0m\n",
      "\u001b[36mmakerandom(0) == 7 too low; retrying.\n",
      "\u001b[91mmakerandom(1) == 8 too low; retrying.\n",
      "\u001b[36mmakerandom(0) == 4 too low; retrying.\n",
      "\u001b[91mmakerandom(1) == 7 too low; retrying.\n",
      "\u001b[36mmakerandom(0) == 1 too low; retrying.\n",
      "\u001b[91mmakerandom(1) == 6 too low; retrying.\n",
      "\u001b[36mmakerandom(0) == 9 too low; retrying.\n",
      "\u001b[36mmakerandom(0) == 3 too low; retrying.\n",
      "\u001b[91m---> Finished: makerandom(1) == 9\u001b[0m\n",
      "\u001b[36mmakerandom(0) == 7 too low; retrying.\n",
      "\u001b[36m---> Finished: makerandom(0) == 10\u001b[0m\n",
      "\n",
      "r1: 10, r2: 9, r3: 10\n"
     ]
    }
   ],
   "source": [
    "import asyncio\n",
    "import random\n",
    "\n",
    "# ANSI colors\n",
    "c = (\n",
    "    \"\\033[0m\",   # End of color\n",
    "    \"\\033[36m\",  # Cyan\n",
    "    \"\\033[91m\",  # Red\n",
    "    \"\\033[35m\",  # Magenta\n",
    ")\n",
    "\n",
    "async def makerandom(idx: int, threshold: int = 6) -> int:\n",
    "    print(c[idx + 1] + f\"Initiated makerandom({idx}).\")\n",
    "    i = random.randint(0, 10)\n",
    "    while i <= threshold:\n",
    "        print(c[idx + 1] + f\"makerandom({idx}) == {i} too low; retrying.\")\n",
    "        await asyncio.sleep(1)\n",
    "        i = random.randint(0, 10)\n",
    "    print(c[idx + 1] + f\"---> Finished: makerandom({idx}) == {i}\" + c[0])\n",
    "    return i\n",
    "\n",
    "async def main():\n",
    "    res = await asyncio.gather(*(makerandom(i, 10 - i - 1) for i in range(3)))\n",
    "    return res\n",
    "\n",
    "if __name__ == \"__main__\":\n",
    "    random.seed(444)\n",
    "    r1, r2, r3 = await(main())\n",
    "    print()\n",
    "    print(f\"r1: {r1}, r2: {r2}, r3: {r3}\")"
   ]
  },
  {
   "cell_type": "markdown",
   "id": "326525c2",
   "metadata": {},
   "source": [
    "# #####################DESIGN PATTERNS#######################"
   ]
  },
  {
   "cell_type": "markdown",
   "id": "53cbcbf6",
   "metadata": {},
   "source": [
    "## Chaining Coroutines\n",
    "A key feature of coroutines is that they can be chained together. (Remember, a coroutine object is awaitable, so another coroutine can await it.) This allows you to break programs into smaller, manageable, recyclable coroutines:"
   ]
  },
  {
   "cell_type": "code",
   "execution_count": null,
   "id": "3f8abd45",
   "metadata": {},
   "outputs": [],
   "source": [
    "import asyncio\n",
    "import random\n",
    "import time\n",
    "\n",
    "async def part1(n: int) -> str:\n",
    "    i = random.randint(0, 10)\n",
    "    print(f\"part1({n}) sleeping for {i} seconds.\")\n",
    "    await asyncio.sleep(i)\n",
    "    result = f\"result{n}-1\"\n",
    "    print(f\"Returning part1({n}) == {result}.\")\n",
    "    return result\n",
    "\n",
    "async def part2(n: int, arg: str) -> str:\n",
    "    i = random.randint(0, 10)\n",
    "    print(f\"part2{n, arg} sleeping for {i} seconds.\")\n",
    "    await asyncio.sleep(i)\n",
    "    result = f\"result{n}-2 derived from {arg}\"\n",
    "    print(f\"Returning part2{n, arg} == {result}.\")\n",
    "    return result\n",
    "\n",
    "async def chain(n: int) -> None:\n",
    "    start = time.perf_counter()\n",
    "    p1 = await part1(n)\n",
    "    p2 = await part2(n, p1)\n",
    "    end = time.perf_counter() - start\n",
    "    print(f\"-->Chained result{n} => {p2} (took {end:0.2f} seconds).\")\n",
    "\n",
    "async def main(*args):\n",
    "    await asyncio.gather(*(chain(n) for n in args))\n",
    "\n",
    "if __name__ == \"__main__\":\n",
    "    import sys\n",
    "    random.seed(444)\n",
    "    args = [1, 2, 3] if len(sys.argv) == 1 else map(int, sys.argv[1:])\n",
    "    start = time.perf_counter()\n",
    "    asyncio.run(main(*args)) ########################################## w przypadku jupytera trzeba zamienic na await\n",
    "    end = time.perf_counter() - start\n",
    "    print(f\"Program finished in {end:0.2f} seconds.\")"
   ]
  },
  {
   "cell_type": "code",
   "execution_count": 29,
   "id": "299a5fda",
   "metadata": {
    "collapsed": true
   },
   "outputs": [
    {
     "name": "stderr",
     "output_type": "stream",
     "text": [
      "usage: ipykernel_launcher.py [-h] [-p NPROD] [-c NCON]\n",
      "ipykernel_launcher.py: error: unrecognized arguments: -f C:\\Users\\MRatajczak\\AppData\\Roaming\\jupyter\\runtime\\kernel-9ef29fba-a2cf-46de-be07-148a9e1504ce.json\n"
     ]
    },
    {
     "ename": "SystemExit",
     "evalue": "2",
     "output_type": "error",
     "traceback": [
      "An exception has occurred, use %tb to see the full traceback.\n",
      "\u001b[1;31mSystemExit\u001b[0m\u001b[1;31m:\u001b[0m 2\n"
     ]
    }
   ],
   "source": [
    "import asyncio\n",
    "import itertools as it\n",
    "import os\n",
    "import random\n",
    "import time\n",
    "\n",
    "async def makeitem(size: int = 5) -> str:\n",
    "    return os.urandom(size).hex()\n",
    "\n",
    "async def randsleep(caller=None) -> None:\n",
    "    i = random.randint(0, 10)\n",
    "    if caller:\n",
    "        print(f\"{caller} sleeping for {i} seconds.\")\n",
    "    await asyncio.sleep(i)\n",
    "\n",
    "async def produce(name: int, q: asyncio.Queue) -> None:\n",
    "    n = random.randint(0, 10)\n",
    "    for _ in it.repeat(None, n):  # Synchronous loop for each single producer\n",
    "        await randsleep(caller=f\"Producer {name}\")\n",
    "        i = await makeitem()\n",
    "        t = time.perf_counter()\n",
    "        await q.put((i, t))\n",
    "        print(f\"Producer {name} added <{i}> to queue.\")\n",
    "\n",
    "async def consume(name: int, q: asyncio.Queue) -> None:\n",
    "    while True:\n",
    "        await randsleep(caller=f\"Consumer {name}\")\n",
    "        i, t = await q.get()\n",
    "        now = time.perf_counter()\n",
    "        print(f\"Consumer {name} got element <{i}>\"\n",
    "              f\" in {now-t:0.5f} seconds.\")\n",
    "        q.task_done()\n",
    "\n",
    "async def main(nprod: int, ncon: int):\n",
    "    q = asyncio.Queue()\n",
    "    producers = [asyncio.create_task(produce(n, q)) for n in range(nprod)]\n",
    "    consumers = [asyncio.create_task(consume(n, q)) for n in range(ncon)]\n",
    "    await asyncio.gather(*producers)\n",
    "    await q.join()  # Implicitly awaits consumers, too\n",
    "    for c in consumers:\n",
    "        c.cancel()\n",
    "\n",
    "if __name__ == \"__main__\":\n",
    "    import argparse\n",
    "    random.seed(444)\n",
    "    parser = argparse.ArgumentParser()\n",
    "    parser.add_argument(\"-p\", \"--nprod\", type=int, default=5)\n",
    "    parser.add_argument(\"-c\", \"--ncon\", type=int, default=10)\n",
    "    ns = parser.parse_args()\n",
    "    start = time.perf_counter()\n",
    "    await (main(**ns.__dict__))\n",
    "    elapsed = time.perf_counter() - start\n",
    "    print(f\"Program completed in {elapsed:0.5f} seconds.\")"
   ]
  },
  {
   "cell_type": "code",
   "execution_count": null,
   "id": "6e27d568",
   "metadata": {},
   "outputs": [],
   "source": []
  },
  {
   "cell_type": "code",
   "execution_count": null,
   "id": "156e7e7d",
   "metadata": {},
   "outputs": [],
   "source": []
  },
  {
   "cell_type": "code",
   "execution_count": null,
   "id": "39969d5b",
   "metadata": {},
   "outputs": [],
   "source": []
  },
  {
   "cell_type": "code",
   "execution_count": null,
   "id": "d0c4cfb6",
   "metadata": {},
   "outputs": [],
   "source": []
  },
  {
   "cell_type": "code",
   "execution_count": null,
   "id": "13f8ae5f",
   "metadata": {},
   "outputs": [],
   "source": []
  },
  {
   "cell_type": "code",
   "execution_count": null,
   "id": "9389db76",
   "metadata": {},
   "outputs": [],
   "source": []
  },
  {
   "cell_type": "code",
   "execution_count": null,
   "id": "98989860",
   "metadata": {},
   "outputs": [],
   "source": []
  },
  {
   "cell_type": "code",
   "execution_count": null,
   "id": "f68322c1",
   "metadata": {},
   "outputs": [],
   "source": []
  },
  {
   "cell_type": "code",
   "execution_count": null,
   "id": "4525ea4d",
   "metadata": {},
   "outputs": [],
   "source": []
  },
  {
   "cell_type": "code",
   "execution_count": null,
   "id": "790b15fa",
   "metadata": {},
   "outputs": [],
   "source": []
  },
  {
   "cell_type": "code",
   "execution_count": null,
   "id": "61b18783",
   "metadata": {},
   "outputs": [],
   "source": []
  },
  {
   "cell_type": "code",
   "execution_count": null,
   "id": "b99fc858",
   "metadata": {},
   "outputs": [],
   "source": []
  },
  {
   "cell_type": "code",
   "execution_count": null,
   "id": "2da1b902",
   "metadata": {},
   "outputs": [],
   "source": []
  },
  {
   "cell_type": "code",
   "execution_count": null,
   "id": "1947978b",
   "metadata": {},
   "outputs": [],
   "source": []
  },
  {
   "cell_type": "code",
   "execution_count": null,
   "id": "d7a0e37f",
   "metadata": {},
   "outputs": [],
   "source": []
  },
  {
   "cell_type": "code",
   "execution_count": null,
   "id": "742a0ce3",
   "metadata": {},
   "outputs": [],
   "source": []
  },
  {
   "cell_type": "code",
   "execution_count": null,
   "id": "66b20da7",
   "metadata": {},
   "outputs": [],
   "source": []
  },
  {
   "cell_type": "code",
   "execution_count": null,
   "id": "15cef4b9",
   "metadata": {},
   "outputs": [],
   "source": []
  },
  {
   "cell_type": "code",
   "execution_count": null,
   "id": "83a10eff",
   "metadata": {},
   "outputs": [],
   "source": []
  }
 ],
 "metadata": {
  "kernelspec": {
   "display_name": "Python 3 (ipykernel)",
   "language": "python",
   "name": "python3"
  },
  "language_info": {
   "codemirror_mode": {
    "name": "ipython",
    "version": 3
   },
   "file_extension": ".py",
   "mimetype": "text/x-python",
   "name": "python",
   "nbconvert_exporter": "python",
   "pygments_lexer": "ipython3",
   "version": "3.10.5"
  }
 },
 "nbformat": 4,
 "nbformat_minor": 5
}
