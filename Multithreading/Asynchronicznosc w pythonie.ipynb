{
 "cells": [
  {
   "cell_type": "code",
   "execution_count": 3,
   "id": "1a518ef2",
   "metadata": {},
   "outputs": [],
   "source": [
    "import threading\n",
    "import time"
   ]
  },
  {
   "cell_type": "markdown",
   "id": "5744d98f",
   "metadata": {},
   "source": [
    "# Paczka Threading umożliwia tworzenie wątków na dwa sposoby. Pierwszy to stworzenie klasy, w której w metodzie run bez argumentów, która zawiera logike wątku."
   ]
  },
  {
   "cell_type": "code",
   "execution_count": 11,
   "id": "6cb0e6b2",
   "metadata": {},
   "outputs": [
    {
     "name": "stdout",
     "output_type": "stream",
     "text": [
      "Task started\n",
      "Next line\n",
      "Task done\n"
     ]
    }
   ],
   "source": [
    "class Task(threading.Thread):\n",
    "    def run(self):\n",
    "        print(\"Task started\")\n",
    "        time.sleep(2)\n",
    "        print(\"Task done\")\n",
    "        \n",
    "Task().start()\n",
    "print(\"Next line\")"
   ]
  },
  {
   "cell_type": "markdown",
   "id": "0c884614",
   "metadata": {},
   "source": [
    "# Do czekania w wątku na jego zakończenie służy metoda join() klasy Thread"
   ]
  },
  {
   "cell_type": "code",
   "execution_count": 12,
   "id": "4bfbe9a2",
   "metadata": {},
   "outputs": [
    {
     "name": "stdout",
     "output_type": "stream",
     "text": [
      "Task started\n",
      "Task done\n",
      "Next line\n"
     ]
    }
   ],
   "source": [
    "class Task(threading.Thread):\n",
    "    def run(self):\n",
    "        print(\"Task started\")\n",
    "        \n",
    "        time.sleep(2)\n",
    "        print(\"Task done\")\n",
    "        \n",
    "watek=Task()\n",
    "watek.start()\n",
    "watek.join()#<-------------- TUTAJ\n",
    "print(\"Next line\")"
   ]
  },
  {
   "cell_type": "markdown",
   "id": "66bd0592",
   "metadata": {},
   "source": [
    "# Wątek daemon to wątek, który zostanie zatrzymany bez ostrzeżenia przez interpreter\n",
    "## dopisujemy wtedy : watek.daemon=True"
   ]
  },
  {
   "cell_type": "markdown",
   "id": "c31b3fd4",
   "metadata": {},
   "source": [
    "# Obsługa wątków przy pomocy funkcji zwiększa elastyczność korzystania z nich i jest wskazana np. ze względu na łątwiejsze testowanie"
   ]
  },
  {
   "cell_type": "code",
   "execution_count": 15,
   "id": "b02eb831",
   "metadata": {},
   "outputs": [
    {
     "name": "stdout",
     "output_type": "stream",
     "text": [
      "Task done\n"
     ]
    }
   ],
   "source": [
    "#definiujemy funkcje\n",
    "def zadanie():\n",
    "    time.sleep(2)\n",
    "    print(\"Task done\")\n",
    "    \n",
    "#wywołujemy wątek, przywołując moduł Thread\n",
    "threading.Thread(target=zadanie, args=(), kwargs=None, daemon=False).start()"
   ]
  },
  {
   "cell_type": "markdown",
   "id": "11345a57",
   "metadata": {},
   "source": [
    "# Bariera to miejsce w funkcji, która będzie wykonywana przez kilka wątków, która zatrzymuje wątki, dopóki wszystkie (określone przy deklarowaniu bariery) nie dotrą do tego miejsca."
   ]
  },
  {
   "cell_type": "code",
   "execution_count": 30,
   "id": "16c5588b",
   "metadata": {
    "collapsed": true
   },
   "outputs": [
    {
     "name": "stdout",
     "output_type": "stream",
     "text": [
      "Molly Ready...\n",
      "Nora Ready...\n",
      "Alfa Ready...\n",
      "Nikos Ready...\n",
      "-----Race started!------\n",
      "Nora Started!\n",
      "Nikos Started!\n",
      "Molly Started!Alfa Started!\n",
      "Nikos Finished!!\n",
      "\n",
      "Nora Finished!!\n",
      "Alfa Finished!!Molly Finished!!\n",
      "\n"
     ]
    }
   ],
   "source": [
    "# wyscigi psow\n",
    "import random\n",
    "dogNames=[\"Nikos\", \"Molly\", \"Alfa\", \"Nora\"]\n",
    "\n",
    "runStages=[\"Ready...\", \"Started!\", \"Finished!!\"]\n",
    "\n",
    "def wait():\n",
    "    time.sleep(random.randint(1,3))\n",
    "    \n",
    "def onStart():\n",
    "    print(\"-----Race started!------\")\n",
    "\n",
    "def run(name, barrier):\n",
    "    \n",
    "    for stage in runStages:\n",
    "        wait()\n",
    "        print(\"{} {}\".format(name, stage))\n",
    "        if stage==\"Ready...\":\n",
    "            barrier.wait()\n",
    "            \n",
    "            \n",
    "barieraStartu=threading.Barrier(len(dogNames), action=onStart)\n",
    "dogs=[threading.Thread(target=run, args=(x, barieraStartu)) for x in dogNames]\n",
    "\n",
    "for dog in dogs:\n",
    "    dog.start()\n",
    "    \n",
    "\n",
    "for dog in dogs:\n",
    "    dog.join()\n",
    "\n",
    "    "
   ]
  },
  {
   "cell_type": "markdown",
   "id": "d304f03f",
   "metadata": {},
   "source": [
    "# Piszemy wątek reagujący na klawisz enter, wykorzystując obiekt Event z Threading"
   ]
  },
  {
   "cell_type": "code",
   "execution_count": 33,
   "id": "eb4d6cf3",
   "metadata": {},
   "outputs": [
    {
     "name": "stdout",
     "output_type": "stream",
     "text": [
      "\n",
      "\n",
      "\n",
      "\n",
      "key pressed000\n",
      "done\n"
     ]
    }
   ],
   "source": [
    "import threading\n",
    "\n",
    "keyPressed=threading.Event()\n",
    "finished=threading.Event()\n",
    "def on_key_press():\n",
    "    while not finished.is_set():\n",
    "        if keyPressed.wait(0.1):\n",
    "            print('key pressed000')\n",
    "            keyPressed.clear()\n",
    "        \n",
    "        print(\"done\")\n",
    "        \n",
    "for _ in range(4):\n",
    "    input()\n",
    "    keyPressed.set()\n",
    "\n",
    "    \n",
    "threading.Thread(target=on_key_press).start()\n",
    "\n",
    "finished.set()\n"
   ]
  },
  {
   "cell_type": "markdown",
   "id": "4f53d5f2",
   "metadata": {},
   "source": [
    "# -----synchronizacja dostepu do zasobow-----"
   ]
  },
  {
   "cell_type": "markdown",
   "id": "a0456e53",
   "metadata": {},
   "source": [
    "1. Ukrywanie danych w włąsnej pamięci wątku. Każdy wątek będzie miał do dyspozycji własną niepowtarzalną kopię tej samej zmiennej. Musimy ją zadeklarować jako \n",
    "### zmienna=threading.local()\n",
    "\n",
    "powyższego nie należy stosować w puli wątków, co naraża nas na błędy i wycieki pamięci. Nie mamy gwarancji że wtedy to samo zadanie będzie wykonywane przez ten sam wątek "
   ]
  },
  {
   "cell_type": "markdown",
   "id": "de648dff",
   "metadata": {},
   "source": [
    "2. Blokada - synchronizacja dostępu do współdzielonego zasobu, która blokuje dany fragment kodu tylko dla jednego wątku na raz"
   ]
  },
  {
   "cell_type": "code",
   "execution_count": 35,
   "id": "45411161",
   "metadata": {
    "collapsed": true
   },
   "outputs": [
    {
     "ename": "SyntaxError",
     "evalue": "expected ':' (4044826707.py, line 2)",
     "output_type": "error",
     "traceback": [
      "\u001b[1;36m  Input \u001b[1;32mIn [35]\u001b[1;36m\u001b[0m\n\u001b[1;33m    with nasza blokada:\u001b[0m\n\u001b[1;37m               ^\u001b[0m\n\u001b[1;31mSyntaxError\u001b[0m\u001b[1;31m:\u001b[0m expected ':'\n"
     ]
    }
   ],
   "source": [
    "nasza_blokada=threading.Lock()\n",
    "with nasza blokada:\n",
    "    pass\n",
    "    #tutaj nasz fragment kodu, który chcemy sobie zablokowac"
   ]
  },
  {
   "cell_type": "markdown",
   "id": "c0d62d7e",
   "metadata": {},
   "source": [
    "# Funkcja print() nie jest bezpieczna wątkowo. Chcąc jednocześnie pisać z wielu wątków używamy modułu logging"
   ]
  },
  {
   "cell_type": "code",
   "execution_count": 36,
   "id": "1fc2f938",
   "metadata": {},
   "outputs": [],
   "source": [
    "import logging"
   ]
  },
  {
   "cell_type": "code",
   "execution_count": 37,
   "id": "af17d154",
   "metadata": {},
   "outputs": [],
   "source": [
    "logging.basicConfig(level=logging.INFO, format='%(message)s')"
   ]
  },
  {
   "cell_type": "code",
   "execution_count": 1,
   "id": "ba2c75cd",
   "metadata": {},
   "outputs": [],
   "source": [
    "import queue"
   ]
  },
  {
   "cell_type": "code",
   "execution_count": 5,
   "id": "1c58eed0",
   "metadata": {},
   "outputs": [],
   "source": [
    "kolejka=queue.Queue(maxsize=3)"
   ]
  },
  {
   "cell_type": "code",
   "execution_count": 7,
   "id": "48e836f9",
   "metadata": {},
   "outputs": [],
   "source": [
    "for _ in range(3): \n",
    "    kolejka.put(\"jeden\")"
   ]
  },
  {
   "cell_type": "code",
   "execution_count": 9,
   "id": "6d23e2f7",
   "metadata": {},
   "outputs": [],
   "source": [
    "kolejka.task_done()"
   ]
  },
  {
   "cell_type": "markdown",
   "id": "5f130087",
   "metadata": {},
   "source": [
    "# Real Python - wstęp do wielowątkowości"
   ]
  },
  {
   "cell_type": "code",
   "execution_count": 17,
   "id": "b99d5874",
   "metadata": {},
   "outputs": [
    {
     "name": "stdout",
     "output_type": "stream",
     "text": [
      "Pierwszy 1\n",
      "Drugi 1\n",
      "Trzeci 1\n",
      "Koniec programu\n",
      "Pierwszy 2\n",
      "Trzeci 2\n",
      "Drugi 2\n",
      "Pierwszy 3\n",
      "Trzeci 3\n",
      "Pierwszy 4\n",
      "Drugi 3\n",
      "Trzeci 4\n",
      "Drugi 4\n"
     ]
    }
   ],
   "source": [
    "import threading\n",
    "import time\n",
    "import random\n",
    "\n",
    "\n",
    "def thread_function(thread_name):\n",
    "    print('{} 1'.format(thread_name))\n",
    "    time.sleep(random.random())\n",
    "    print('{} 2'.format(thread_name))\n",
    "    time.sleep(random.random())\n",
    "    print('{} 3'.format(thread_name))\n",
    "    time.sleep(random.random())\n",
    "    print('{} 4'.format(thread_name))\n",
    "    time.sleep(random.random())\n",
    "    \n",
    "thread_names= [\n",
    "    'Pierwszy',\n",
    "    'Drugi',\n",
    "    'Trzeci'\n",
    "]\n",
    "    \n",
    "for thread in thread_names:\n",
    "    threading.Thread(target=thread_function, args=(thread,),daemon=True).start()\n",
    "    \n",
    "    \n",
    "print(\"Koniec programu\")\n"
   ]
  },
  {
   "cell_type": "code",
   "execution_count": 14,
   "id": "0c1138c8",
   "metadata": {
    "collapsed": true
   },
   "outputs": [
    {
     "name": "stderr",
     "output_type": "stream",
     "text": [
      "22:09:24: Main    : before creating thread\n",
      "22:09:24: Main    : before running thread\n",
      "22:09:24: Thread 1: starting\n",
      "22:09:24: Main    : wait for the thread to finish\n",
      "22:09:24: Main    : all done\n",
      "22:09:26: Thread 1: finishing\n"
     ]
    }
   ],
   "source": [
    "import logging\n",
    "import threading\n",
    "import time\n",
    "\n",
    "def thread_function(name):\n",
    "    logging.info(\"Thread %s: starting\", name)\n",
    "    time.sleep(2)\n",
    "    logging.info(\"Thread %s: finishing\", name)\n",
    "\n",
    "if __name__ == \"__main__\":\n",
    "    format = \"%(asctime)s: %(message)s\"\n",
    "    logging.basicConfig(format=format, level=logging.INFO,\n",
    "                        datefmt=\"%H:%M:%S\")\n",
    "\n",
    "    logging.info(\"Main    : before creating thread\")\n",
    "    x = threading.Thread(target=thread_function, args=(1,), daemon=True)\n",
    "    logging.info(\"Main    : before running thread\")\n",
    "    x.start()\n",
    "    logging.info(\"Main    : wait for the thread to finish\")\n",
    "    #x.join()\n",
    "    logging.info(\"Main    : all done\")"
   ]
  },
  {
   "cell_type": "markdown",
   "id": "ea396f24",
   "metadata": {},
   "source": [
    "# łatwa implementacja uruchamiania wiecej niz jednego wątka poniżej"
   ]
  },
  {
   "cell_type": "code",
   "execution_count": 21,
   "id": "c609d56a",
   "metadata": {},
   "outputs": [
    {
     "name": "stdout",
     "output_type": "stream",
     "text": [
      "Pierwszy 1\n",
      "Drugi 1\n",
      "Trzeci 1\n",
      "Trzeci 2\n",
      "Drugi 2\n",
      "Trzeci 3\n",
      "Drugi 3\n",
      "Drugi 4\n",
      "Pierwszy 2\n",
      "Trzeci 4\n",
      "Pierwszy 3\n",
      "Pierwszy 4\n",
      "koniec\n"
     ]
    }
   ],
   "source": [
    "\n",
    "import concurrent.futures\n",
    "\n",
    "with concurrent.futures.ThreadPoolExecutor(max_workers=5) as Th:\n",
    "    Th.map(thread_function, thread_names)\n",
    "    \n",
    "print(\"koniec\")"
   ]
  },
  {
   "cell_type": "markdown",
   "id": "6384165e",
   "metadata": {},
   "source": [
    "# Thread.Lock() --> blokada, której dwie głównie wywoływane metody to .acquire() i .release(). Minusem jest to, że jeżeli acquire blokuje wątek. RLock() nie blokuje"
   ]
  },
  {
   "cell_type": "markdown",
   "id": "ef548f74",
   "metadata": {},
   "source": [
    "# Eventy i Queue"
   ]
  },
  {
   "cell_type": "markdown",
   "id": "da80298d",
   "metadata": {},
   "source": [
    "Plusem Eventów jest to, że wątki nie muszą przerywać swojego działania, mogą tylko co jakiś czas sprawdzać stan eventu."
   ]
  },
  {
   "cell_type": "markdown",
   "id": "d3da4760",
   "metadata": {},
   "source": [
    "Queue jest bezpieczna przy pracy z wieloma wątkami, metody get i set zawierają mechanizmy blokad"
   ]
  },
  {
   "cell_type": "markdown",
   "id": "e97df04e",
   "metadata": {},
   "source": [
    "# TImery z paczki threading pozwalają na uruchomienie funkcjo po określonym czasie"
   ]
  },
  {
   "cell_type": "code",
   "execution_count": 22,
   "id": "535e34c9",
   "metadata": {},
   "outputs": [],
   "source": [
    "t=threading.Timer(5, thread_function)"
   ]
  },
  {
   "cell_type": "code",
   "execution_count": null,
   "id": "f45acaee",
   "metadata": {},
   "outputs": [],
   "source": []
  },
  {
   "cell_type": "code",
   "execution_count": null,
   "id": "859140c6",
   "metadata": {},
   "outputs": [],
   "source": []
  },
  {
   "cell_type": "code",
   "execution_count": null,
   "id": "a1672230",
   "metadata": {},
   "outputs": [],
   "source": []
  },
  {
   "cell_type": "code",
   "execution_count": null,
   "id": "495f9918",
   "metadata": {},
   "outputs": [],
   "source": []
  },
  {
   "cell_type": "code",
   "execution_count": null,
   "id": "c9cb05a4",
   "metadata": {},
   "outputs": [],
   "source": []
  },
  {
   "cell_type": "code",
   "execution_count": null,
   "id": "305c35c5",
   "metadata": {},
   "outputs": [],
   "source": []
  },
  {
   "cell_type": "code",
   "execution_count": null,
   "id": "3fa04873",
   "metadata": {},
   "outputs": [],
   "source": []
  },
  {
   "cell_type": "code",
   "execution_count": null,
   "id": "92128794",
   "metadata": {},
   "outputs": [],
   "source": []
  },
  {
   "cell_type": "code",
   "execution_count": null,
   "id": "3ad0231a",
   "metadata": {},
   "outputs": [],
   "source": []
  },
  {
   "cell_type": "code",
   "execution_count": null,
   "id": "f5c64a87",
   "metadata": {},
   "outputs": [],
   "source": []
  },
  {
   "cell_type": "code",
   "execution_count": null,
   "id": "a664c108",
   "metadata": {},
   "outputs": [],
   "source": []
  },
  {
   "cell_type": "code",
   "execution_count": null,
   "id": "8568e63b",
   "metadata": {},
   "outputs": [],
   "source": []
  },
  {
   "cell_type": "code",
   "execution_count": null,
   "id": "af2f40f9",
   "metadata": {},
   "outputs": [],
   "source": []
  },
  {
   "cell_type": "code",
   "execution_count": null,
   "id": "0ba75a35",
   "metadata": {},
   "outputs": [],
   "source": []
  },
  {
   "cell_type": "code",
   "execution_count": null,
   "id": "e079b7ce",
   "metadata": {},
   "outputs": [],
   "source": []
  },
  {
   "cell_type": "code",
   "execution_count": null,
   "id": "9724f8f3",
   "metadata": {},
   "outputs": [],
   "source": []
  },
  {
   "cell_type": "code",
   "execution_count": null,
   "id": "51a32eab",
   "metadata": {},
   "outputs": [],
   "source": []
  },
  {
   "cell_type": "code",
   "execution_count": null,
   "id": "8b861bc7",
   "metadata": {},
   "outputs": [],
   "source": []
  },
  {
   "cell_type": "code",
   "execution_count": null,
   "id": "e6f61045",
   "metadata": {},
   "outputs": [],
   "source": []
  }
 ],
 "metadata": {
  "kernelspec": {
   "display_name": "Python 3 (ipykernel)",
   "language": "python",
   "name": "python3"
  },
  "language_info": {
   "codemirror_mode": {
    "name": "ipython",
    "version": 3
   },
   "file_extension": ".py",
   "mimetype": "text/x-python",
   "name": "python",
   "nbconvert_exporter": "python",
   "pygments_lexer": "ipython3",
   "version": "3.10.5"
  }
 },
 "nbformat": 4,
 "nbformat_minor": 5
}
